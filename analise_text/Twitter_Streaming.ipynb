{
 "cells": [
  {
   "cell_type": "code",
   "execution_count": 8,
   "metadata": {
    "collapsed": false
   },
   "outputs": [
    {
     "name": "stdout",
     "output_type": "stream",
     "text": [
      "As usual @drewmagary kills it with a post about Donald Trump. https://t.co/dbKk4yqdHJ\n",
      "RT @JLovesTrump: Is Donald Trump the future of the Republican Party? #SuperTuesday\n",
      "Young metro should just tweet \"if you don't vote then I don't trust you.\" And there's no way in hell trump wins.\n",
      "@MetroBoomin\n",
      "🤔 https://t.co/HwLktrejS8\n",
      "RT @ShaunKing: The full story of the white supremacists who assaulted this Black student at a Trump rally.\n",
      "\n",
      "https://t.co/WPywX72tVO\n",
      "https:/…\n",
      "¿Y si Donald Trump amara en secreto a los inmigrantes? https://t.co/GeoDYAjsZw #MusicIsMyLife\n",
      "If Trump was in Cruz's or Rubio's position, would Trumpketeers be calling for him to get out?\n",
      "\n",
      "#NeverTrump #MakeDonaldDrumpfAgain\n",
      "RT @_Bert19: This is the only man that can save us from trump 😂 https://t.co/BGdysYQ6WQ\n",
      "In their own words: Voters explain why they chose Trump https://t.co/mK2EByb4c4\n",
      "RT @marclamonthill: Regardless of Trump's original intent, his campaign slogan \"Make America Great Again\" has become the racist plea \"Make …\n",
      "RT @RelatableQuote: me 2 months ago: lmao no trump is not gonna win people aren't THAT stupid \n",
      "\n",
      "me now: https://t.co/jRoH4bjmL9\n",
      "RT @magnifier661: The GOPe have said publicly they would rather lose the presidency and give SCOTUS and POTUS to Hillary than support Trump…\n",
      "Terrified bro. You know the kind of people that support trump. We could regress all the back to segregation fam https://t.co/AEjKj7ClhV\n",
      "RT @cacajuice: If y'all don't vote for Hillary cuz Bernie lost I will fight you @ the concentration camp when Trump sends us there https://…\n",
      "RT @bourgeoisalien: Can't they just bring Dexter back for one season to take care of Trump?\n",
      "RT @ShaunKing: Side by Side. The hatred faced by the Little Rock 9 and the hatred faced at a Donald Trump Rally. https://t.co/0b0WozISE5\n",
      "RT @NotAriGoId: \"If Trump wins I will flee the country\"\n",
      "\n",
      "No you will not you fucking liar 🖕🏼\n",
      "RT @mitchellvii: Trump needs to engage Cruz and Rubio Thursday but not like a boxer but like a Judo fighter.  Use their attacks to pivot to…\n",
      "RT @JLovesTrump: Is Donald Trump the future of the Republican Party? #SuperTuesday\n",
      "RT @utrgvconfession: Hey, at least Trump didn't win Texas. WE did our part, the rest is on you America.\n"
     ]
    }
   ],
   "source": [
    "# Простой пример кода, позволяющего стримить твиттер\n",
    "\n",
    "from tweepy import Stream\n",
    "from tweepy import OAuthHandler\n",
    "from tweepy.streaming import StreamListener\n",
    "import json\n",
    "\n",
    "# Чтобы пользоваться api twitter, зарегистируйте создайте новое приложение на сайте twitter\n",
    "# и впишите полученные consumer key, consumer secret, access token, access secret сюда.\n",
    "ckey = \"\"\n",
    "csecret = \"\"\n",
    "atoken = \"\"\n",
    "asecret = \"\"\n",
    "\n",
    "tweets = []\n",
    "\n",
    "class listener(StreamListener):\n",
    "    def on_data(self, data):\n",
    "        all_data = json.loads(data)\n",
    "        tweet = all_data[\"text\"]\n",
    "        tweets.append(tweet)\n",
    "        print tweet\n",
    "        return True if len(tweets) < 20 else False\n",
    "\n",
    "    def on_error(self, status):\n",
    "        print status\n",
    "\n",
    "auth = OAuthHandler(ckey, csecret)\n",
    "auth.set_access_token(atoken, asecret)\n",
    "\n",
    "twitterStream = Stream(auth, listener())\n",
    "twitterStream.filter(track=[\"Trump\"])"
   ]
  },
  {
   "cell_type": "code",
   "execution_count": null,
   "metadata": {
    "collapsed": true
   },
   "outputs": [],
   "source": []
  }
 ],
 "metadata": {
  "kernelspec": {
   "display_name": "Python 2",
   "language": "python",
   "name": "python2"
  },
  "language_info": {
   "codemirror_mode": {
    "name": "ipython",
    "version": 2
   },
   "file_extension": ".py",
   "mimetype": "text/x-python",
   "name": "python",
   "nbconvert_exporter": "python",
   "pygments_lexer": "ipython2",
   "version": "2.7.10"
  }
 },
 "nbformat": 4,
 "nbformat_minor": 0
}
