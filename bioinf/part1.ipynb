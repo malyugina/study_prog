{
 "cells": [
  {
   "cell_type": "code",
   "execution_count": null,
   "metadata": {
    "collapsed": false
   },
   "outputs": [],
   "source": [
    "path = 'C:\\\\Users\\\\groza\\\\Downloads\\\\rosalind_ba1f.txt'\n",
    "myfile = open(path, \"r\")\n",
    "text_ = myfile.readlines()\n",
    "text_1 = text_[0]\n",
    "text_2 = text_[1]"
   ]
  },
  {
   "cell_type": "code",
   "execution_count": 1,
   "metadata": {
    "collapsed": false
   },
   "outputs": [],
   "source": [
    "output_path = 'C:\\\\Users\\\\groza\\\\study\\\\bioinf\\\\result.txt'\n",
    "out_file = open(output_path, 'w')"
   ]
  },
  {
   "cell_type": "code",
   "execution_count": 21,
   "metadata": {
    "collapsed": false
   },
   "outputs": [],
   "source": [
    "text_ = 'CCCCAGGG'\n",
    "k = len(text_)\n",
    "#int_ = 45\n",
    "#number = 8010\n",
    "d = 2"
   ]
  },
  {
   "cell_type": "code",
   "execution_count": 26,
   "metadata": {
    "collapsed": false,
    "scrolled": true
   },
   "outputs": [
    {
     "name": "stdout",
     "output_type": "stream",
     "text": [
      "2\n",
      "0\n",
      "0\n",
      "0\n",
      "0\n",
      "0\n",
      "0\n",
      "0\n",
      "0\n",
      "0\n",
      "0\n",
      "0\n",
      "0\n",
      "0\n",
      "0\n",
      "0\n"
     ]
    }
   ],
   "source": [
    "#problem11 !!!!!!!!!!!!\n",
    "text_ = 'AAA'\n",
    "k = 2\n",
    "\n",
    "resulte = 0\n",
    "for i in range(4**k):\n",
    "    pattern_i = numder_to_DNA(i, k)\n",
    "    print (find_frequency(text_, pattern_i))\n"
   ]
  },
  {
   "cell_type": "code",
   "execution_count": 24,
   "metadata": {
    "collapsed": false
   },
   "outputs": [],
   "source": [
    "def problem14(text_, d):\n",
    "    k = len(text_)\n",
    "    resulte = []\n",
    "    for i in range(4**k):\n",
    "        pattern_i = numder_to_DNA(i, k)\n",
    "        if compute_distance(pattern_i, text_) <= d:\n",
    "            resulte.append(pattern_i)\n",
    "    \n",
    "    return (resulte)"
   ]
  },
  {
   "cell_type": "code",
   "execution_count": null,
   "metadata": {
    "collapsed": false
   },
   "outputs": [],
   "source": [
    "print (resulte)"
   ]
  },
  {
   "cell_type": "code",
   "execution_count": null,
   "metadata": {
    "collapsed": false
   },
   "outputs": [],
   "source": [
    "def problem10(text_, k, d):\n",
    "    count = {}\n",
    "    for i in range(4**k):\n",
    "        pattern_i = numder_to_DNA(i, k)\n",
    "        count_i = 0\n",
    "        for j in range(0, len(text_) - k + 1, 1):\n",
    "            if compute_distance(pattern_i, text_[j:j+k]) <= d:\n",
    "                count_i = count_i + 1\n",
    "            if compute_distance(return_invert_text(pattern_i), text_[j:j+k]) <= d:\n",
    "                count_i = count_i + 1\n",
    "        if count_i > 0:\n",
    "            count[pattern_i] = count_i\n",
    "\n",
    "    max_ = 0\n",
    "    for i in count:\n",
    "        if count[i] > max_:\n",
    "            max_ = count[i]\n",
    "\n",
    "    result = []\n",
    "    for i in count:\n",
    "        if count[i] == max_:\n",
    "            result.append(i)\n",
    "    return result"
   ]
  },
  {
   "cell_type": "code",
   "execution_count": null,
   "metadata": {
    "collapsed": false
   },
   "outputs": [],
   "source": [
    "def problem9(text_, k, d):\n",
    "    count = {}\n",
    "    for i in range(4**k):\n",
    "        pattern_i = numder_to_DNA(i, k)\n",
    "        count_i = 0\n",
    "        for j in range(0, len(text_) - k + 1, 1):\n",
    "            if compute_distance(pattern_i, text_[j:j+k]) <= d:\n",
    "                count_i = count_i + 1\n",
    "        if count_i > 0:\n",
    "            count[pattern_i] = count_i\n",
    "\n",
    "    max_ = 0\n",
    "    for i in count:\n",
    "        if count[i] > max_:\n",
    "            max_ = count[i]\n",
    "\n",
    "    result = []\n",
    "    for i in count:\n",
    "        if count[i] == max_:\n",
    "            result.append(i)\n",
    "    return result"
   ]
  },
  {
   "cell_type": "code",
   "execution_count": 12,
   "metadata": {
    "collapsed": false
   },
   "outputs": [],
   "source": [
    "def compute_distance(text_1, text_2):\n",
    "    count = 0\n",
    "    for i, s in enumerate(text_1):\n",
    "        if s != text_2[i]:\n",
    "            count = count + 1\n",
    "    return count"
   ]
  },
  {
   "cell_type": "code",
   "execution_count": 1,
   "metadata": {
    "collapsed": false
   },
   "outputs": [],
   "source": [
    "def numder_to_DNA(number, k):\n",
    "    bin_ = bin(number)[2:]\n",
    "    if len(bin_)%2 == 1:\n",
    "        bin_ = '0'+bin_\n",
    "\n",
    "    dict_ = {\"00\":\"A\", \"01\":\"C\", \"10\":\"G\", \"11\":\"T\"}\n",
    "    text_ = []\n",
    "    for i in range(int(len(bin_)/2), k, 1):\n",
    "        text_.append(\"A\")\n",
    "    for i in range(0, len(bin_)-1, 2):\n",
    "        text_.append(dict_[bin_[i:i+2]])\n",
    "    \n",
    "    return ''.join(text_)\n"
   ]
  },
  {
   "cell_type": "code",
   "execution_count": null,
   "metadata": {
    "collapsed": false
   },
   "outputs": [],
   "source": [
    "def DNA_to_string (text_):\n",
    "    number_i = 0\n",
    "    number = 0\n",
    "    for i, y in enumerate(text_[::-1]):\n",
    "        if y == \"A\":\n",
    "            number_i = 0\n",
    "        if y == \"C\":\n",
    "            number_i = 1\n",
    "        if y == \"T\":\n",
    "            number_i = 3\n",
    "        if y == \"G\":\n",
    "            number_i = 2\n",
    "        number = number + (number_i)*(4**i)\n",
    "\n",
    "    return number\n",
    "        "
   ]
  },
  {
   "cell_type": "code",
   "execution_count": null,
   "metadata": {
    "collapsed": false
   },
   "outputs": [],
   "source": [
    "def problem8(pattern, text_, d):\n",
    "    len_pattern =len(pattern)\n",
    "    for i in range(0, len(text_) - len_pattern  + 1, 1):\n",
    "        if compute_distance(pattern, text_[i:i+len_pattern]) <= d:\n",
    "            print (i)"
   ]
  },
  {
   "cell_type": "code",
   "execution_count": null,
   "metadata": {
    "collapsed": false
   },
   "outputs": [],
   "source": [
    "def priblem6(text_):\n",
    "    import numpy as np\n",
    "\n",
    "    list_ = []\n",
    "    a = 0\n",
    "    list_.append(0)\n",
    "    for i in text_:\n",
    "        if i == 'C':\n",
    "            a = a - 1\n",
    "        if i == 'G':\n",
    "            a = a + 1\n",
    "        list_.append(a)\n",
    "\n",
    "    list_ = np.array(list_)\n",
    "    min_ = np.amin(list_)\n",
    "    for i, y in enumerate(list_):\n",
    "        if y == min_:\n",
    "            print (i)"
   ]
  },
  {
   "cell_type": "code",
   "execution_count": null,
   "metadata": {
    "collapsed": false
   },
   "outputs": [],
   "source": [
    "def problem5(text_, len_patter, L, t):\n",
    "    result = set()\n",
    "    for j in range(0, len(text_) - L + 1, 1):\n",
    "        text_1 = text_[j:j+L]\n",
    "        pattern = {}\n",
    "        for i in range(0, len(text_1) - len_pattern + 1, 1):\n",
    "            pattern_i = text_1[i:i+len_pattern]\n",
    "            if pattern.get(pattern_i) == None:\n",
    "                pattern[pattern_i] = 1\n",
    "            else:\n",
    "                pattern[pattern_i] = pattern[pattern_i] + 1\n",
    "\n",
    "        for i in pattern:\n",
    "            if pattern[i] >= t:\n",
    "                result.add(i)\n",
    "        return result"
   ]
  },
  {
   "cell_type": "code",
   "execution_count": null,
   "metadata": {
    "collapsed": false
   },
   "outputs": [],
   "source": [
    "def find_ind_pattern(text_, pattern):\n",
    "    len_pattern = len(pattern)\n",
    "    for i in range(0, len(text_) - len_pattern + 1, 1):\n",
    "        if text_[i:i+len_pattern] == pattern:\n",
    "            print (i)\n"
   ]
  },
  {
   "cell_type": "code",
   "execution_count": null,
   "metadata": {
    "collapsed": false
   },
   "outputs": [],
   "source": [
    "def return_invert_text(text_):\n",
    "    text_ = text_[::-1]\n",
    "    text_ = text_.replace('A', 'B')\n",
    "    text_ = text_.replace('T', 'A')\n",
    "    text_ = text_.replace('B', 'T')\n",
    "    text_ = text_.replace('C', 'B')\n",
    "    text_ = text_.replace('G', 'C')\n",
    "    text_ = text_.replace('B', 'G')\n",
    "    \n",
    "    return text_"
   ]
  },
  {
   "cell_type": "code",
   "execution_count": 2,
   "metadata": {
    "collapsed": true
   },
   "outputs": [],
   "source": [
    "def find_frequency(text_, pattern):\n",
    "    len_pattern = len(pattern)\n",
    "    count = 0\n",
    "    for i in range(0, len(text_) - len_pattern + 1, 1):\n",
    "        if text_[i:i+len_pattern] == pattern:\n",
    "            count = count + 1\n",
    "    return count"
   ]
  },
  {
   "cell_type": "code",
   "execution_count": null,
   "metadata": {
    "collapsed": true
   },
   "outputs": [],
   "source": [
    "def find_max_freq_pattern(text_, len_pattern):\n",
    "    pattern = {}\n",
    "    for i in range(0, len(text_) - len_pattern + 1, 1):\n",
    "        pattern_i = text_[i:i+len_pattern]\n",
    "        if pattern.get(pattern_i) == None:\n",
    "            pattern[pattern_i] = 1\n",
    "        else:\n",
    "            pattern[pattern_i] = pattern[pattern_i] + 1\n",
    "            \n",
    "    max_ = 0\n",
    "    for i in pattern:\n",
    "        if pattern[i] > max_:\n",
    "            max_ = pattern[i]\n",
    "    \n",
    "    result = []\n",
    "    for i in pattern:\n",
    "        if pattern[i] == max_:\n",
    "            result.append(i)\n",
    "    return resulte"
   ]
  }
 ],
 "metadata": {
  "kernelspec": {
   "display_name": "Python 3",
   "language": "python",
   "name": "python3"
  },
  "language_info": {
   "codemirror_mode": {
    "name": "ipython",
    "version": 3
   },
   "file_extension": ".py",
   "mimetype": "text/x-python",
   "name": "python",
   "nbconvert_exporter": "python",
   "pygments_lexer": "ipython3",
   "version": "3.4.3"
  }
 },
 "nbformat": 4,
 "nbformat_minor": 0
}
