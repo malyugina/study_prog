{
 "cells": [
  {
   "cell_type": "markdown",
   "metadata": {},
   "source": [
    "# Generate All Maximal Non-Branching Paths in a Graph"
   ]
  },
  {
   "cell_type": "code",
   "execution_count": null,
   "metadata": {
    "collapsed": true
   },
   "outputs": [],
   "source": [
    "def read_file(filename):\n",
    "    lst = [line.rstrip('\\n').split(\" -> \") for line in open(filename)]\n",
    "    dct = dict()\n",
    "    [dct.update({int(line[0]): [int(num) for num in line[1].split(',')]}) for line in lst]\n",
    "    return dct\n",
    "\n",
    "\n",
    "def write_answer(answ):    \n",
    "    fld = open(\"output.txt\", \"w\")\n",
    "    for walk in answ:\n",
    "        fld.write(\" -> \".join([str(node) for node in walk]))\n",
    "        fld.write(\"\\n\")\n",
    "    fld.close()\n",
    "\n",
    "def de_bruijn_graph(kmers):\n",
    "    arcs = {}\n",
    "    for kmer in kmers:\n",
    "        if kmer[:-1] not in list(arcs.keys()):\n",
    "            arcs.update({kmer[:-1]: [kmer[1:]]})\n",
    "        else:\n",
    "            arcs[kmer[:-1]].append(kmer[1:])            \n",
    "    return arcs\n",
    "\n",
    "def find_nodes(graph):\n",
    "    deg = {}\n",
    "    [deg.update({node: [0, len(graph[node])]}) for node in graph.keys()]\n",
    "    for in_node in graph.keys():\n",
    "        for out_node in graph[in_node]:\n",
    "            if out_node in deg.keys():\n",
    "                deg[out_node][0] += 1\n",
    "    return [key for key in deg.keys() if deg[key] != [1, 1] ]\n",
    "\n",
    "def find_startnode(graph, join_nodes):\n",
    "    ret = [node for node in graph.keys() if node in join_nodes]\n",
    "    if len(ret) != 0:\n",
    "        return ret[0]\n",
    "    else:\n",
    "        return list(graph.keys())[0]\n",
    "\n",
    "def walk_until_branch(graph, join_nodes):\n",
    "    walking = [find_startnode(graph, join_nodes)]\n",
    "\n",
    "    while((walking[-1] in graph.keys() and walking[-1] not in join_nodes) or len(walking) == 1):\n",
    "        walking.append(graph[walking[-1]].pop())\n",
    "        if graph[walking[-2]] == []:\n",
    "            graph.pop(walking[-2])\n",
    "    return walking\n",
    "\n",
    "def non_branching_walks(graph):\n",
    "    join_nodes = find_nodes(graph)\n",
    "    walks = []\n",
    "    while(graph != {}):\n",
    "        walks.append(walk_until_branch(graph, join_nodes))\n",
    "    return walks"
   ]
  },
  {
   "cell_type": "code",
   "execution_count": null,
   "metadata": {
    "collapsed": false
   },
   "outputs": [],
   "source": [
    "graph = read_file(\"rosalind_ba3m.txt\")\n",
    "walks = non_branching_walks(graph)\n",
    "write_answer(walks)"
   ]
  }
 ],
 "metadata": {
  "kernelspec": {
   "display_name": "Python 3",
   "language": "python",
   "name": "python3"
  },
  "language_info": {
   "codemirror_mode": {
    "name": "ipython",
    "version": 3
   },
   "file_extension": ".py",
   "mimetype": "text/x-python",
   "name": "python",
   "nbconvert_exporter": "python",
   "pygments_lexer": "ipython3",
   "version": "3.4.3"
  }
 },
 "nbformat": 4,
 "nbformat_minor": 0
}
