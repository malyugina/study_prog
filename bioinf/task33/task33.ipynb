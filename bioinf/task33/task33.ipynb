{
 "cells": [
  {
   "cell_type": "markdown",
   "metadata": {},
   "source": [
    "# Generate Contigs from a Collection of Reads"
   ]
  },
  {
   "cell_type": "code",
   "execution_count": 133,
   "metadata": {
    "collapsed": false
   },
   "outputs": [],
   "source": [
    "def read_file(filename):\n",
    "    return [line.rstrip('\\n') for line in open(filename)]\n",
    "\n",
    "def write_answer(answ):    \n",
    "    fld = open(\"output.txt\", \"w\")\n",
    "    fld.write(\" \".join([walk for walk in answ]))\n",
    "    fld.close()\n",
    "\n",
    "def de_bruijn_graph(kmers):\n",
    "    arcs = {}\n",
    "    for kmer in kmers:\n",
    "        if kmer[:-1] not in list(arcs.keys()):\n",
    "            arcs.update({kmer[:-1]: [kmer[1:]]})\n",
    "        else:\n",
    "            arcs[kmer[:-1]].append(kmer[1:])            \n",
    "    return arcs\n",
    "\n",
    "def find_nodes(graph):\n",
    "    deg = {}\n",
    "    [deg.update({node: [0, len(graph[node])]}) for node in graph.keys()]\n",
    "    for in_node in graph.keys():\n",
    "        for out_node in graph[in_node]:\n",
    "            if out_node in deg.keys():\n",
    "                deg[out_node][0] += 1\n",
    "    return [key for key in deg.keys() if deg[key] != [1, 1] ]\n",
    "\n",
    "def find_startnode(graph, join_nodes):\n",
    "    return [node for node in graph.keys() if node in join_nodes][0] \n",
    "\n",
    "def walk_until_branch(graph, join_nodes):\n",
    "    walking = [find_startnode(graph, join_nodes)]\n",
    "\n",
    "    while((walking[-1] in graph.keys() and walking[-1] not in join_nodes) or len(walking) == 1):\n",
    "        walking.append(graph[walking[-1]].pop())\n",
    "        if graph[walking[-2]] == []:\n",
    "            graph.pop(walking[-2])\n",
    "    return walking\n",
    "\n",
    "def non_branching_walks(graph):\n",
    "    join_nodes = find_nodes(graph)\n",
    "    walks = []\n",
    "    while(graph != {}):\n",
    "        walks.append(walk_until_branch(graph, join_nodes))\n",
    "    return walks\n",
    "\n",
    "def reconstruct_dna(path):\n",
    "    return ''.join([dna[0] for dna in path])+path[-1][1:]"
   ]
  },
  {
   "cell_type": "code",
   "execution_count": 134,
   "metadata": {
    "collapsed": false
   },
   "outputs": [],
   "source": [
    "reads = read_file(\"rosalind_ba3k.txt\")\n",
    "graph = de_bruijn_graph(reads)\n",
    "walks = non_branching_walks(graph)\n",
    "write_answer([reconstruct_dna(walk) for walk in walks])"
   ]
  },
  {
   "cell_type": "code",
   "execution_count": null,
   "metadata": {
    "collapsed": true
   },
   "outputs": [],
   "source": []
  }
 ],
 "metadata": {
  "kernelspec": {
   "display_name": "Python 3",
   "language": "python",
   "name": "python3"
  },
  "language_info": {
   "codemirror_mode": {
    "name": "ipython",
    "version": 3
   },
   "file_extension": ".py",
   "mimetype": "text/x-python",
   "name": "python",
   "nbconvert_exporter": "python",
   "pygments_lexer": "ipython3",
   "version": "3.4.3"
  }
 },
 "nbformat": 4,
 "nbformat_minor": 0
}
