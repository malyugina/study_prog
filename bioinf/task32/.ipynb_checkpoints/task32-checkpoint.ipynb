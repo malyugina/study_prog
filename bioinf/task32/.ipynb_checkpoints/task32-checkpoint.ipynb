{
 "cells": [
  {
   "cell_type": "markdown",
   "metadata": {},
   "source": [
    "# Reconstruct a String from its Paired Composition"
   ]
  },
  {
   "cell_type": "code",
   "execution_count": 3,
   "metadata": {
    "collapsed": true
   },
   "outputs": [],
   "source": [
    "def read_file(filename):\n",
    "    lines = [line.rstrip('\\n') for line in open(filename)]\n",
    "    k, d = [int(num) for num in lines[0].split(' ')]\n",
    "    return k, d, [tuple(line.split(\"|\")) for line in lines[1:]]\n",
    "\n",
    "def write_answer(answ):    \n",
    "    fld = open(\"output.txt\", \"w\")\n",
    "    fld.write(answ)\n",
    "    fld.close()\n",
    "    \n",
    "def read_etal(filename):\n",
    "    fld = open(filename)\n",
    "    return fld.read()\n",
    "\n",
    "def debruijn_graph_pairs(pairs):\n",
    "    prefix = lambda x: (x[0][:-1], x[1][:-1])\n",
    "    postfix = lambda x: (x[0][1:], x[1][1:])\n",
    "    \n",
    "    graph = {}\n",
    "    for pair in pairs:\n",
    "        if prefix(pair) not in list(graph.keys()):\n",
    "            graph.update({prefix(pair): [postfix(pair)]})\n",
    "        else:\n",
    "            graph[prefix(pair)].append(postfix(pair))            \n",
    "    return graph\n",
    "\n",
    "def find_start(graph):\n",
    "    deg = {}\n",
    "    [deg.update({node: len(graph[node])}) for node in graph.keys()]\n",
    "    for in_node in graph.keys():\n",
    "        for out_node in graph[in_node]:\n",
    "            if out_node in deg.keys():\n",
    "                deg[out_node] -= 1\n",
    "            else:\n",
    "                deg.update({out_node: -1})\n",
    "    return max(deg, key=deg.get)\n",
    "\n",
    "def walk_on_graph(graph, startnode):\n",
    "    walking = [startnode]\n",
    "    while((walking[-1] in graph.keys() and walking[-1] != walking[0]) or len(walking) == 1):\n",
    "        walking.append(graph[walking[-1]].pop())\n",
    "        if graph[walking[-2]] == []:\n",
    "            graph.pop(walking[-2])\n",
    "\n",
    "    return walking\n",
    "\n",
    "def find_euleran_path(graph):\n",
    "    path = walk_on_graph(graph, find_start(graph))\n",
    "    while(graph != {}):\n",
    "        startnode = [node for node in path if node in graph.keys()][0]\n",
    "        cycle = walk_on_graph(graph, startnode)[:-1]\n",
    "        join_node = [cycle_node for cycle_node in cycle if cycle_node in path]\n",
    "\n",
    "        if(join_node != []):\n",
    "            old_index = path.index(join_node[0])\n",
    "            new_index = cycle.index(join_node[0])\n",
    "            path = path[:old_index] + cycle[new_index::] + cycle[:new_index:] + path[old_index:]\n",
    "    return path\n",
    "\n",
    "def pared_path_to_dna(path, d):\n",
    "    k = len(path[0][0])\n",
    "    t = len(path)\n",
    "    dna = ''.join([pair[0][0] for pair in path])\n",
    "    dna += ''.join([pair[1][0] for pair in path[(t - d - k - 1):]]) + path[-1][1][1:]\n",
    "    return dna"
   ]
  },
  {
   "cell_type": "code",
   "execution_count": 4,
   "metadata": {
    "collapsed": false
   },
   "outputs": [],
   "source": [
    "k, d, pairs = read_file(\"rosalind_ba3j.txt\")\n",
    "graph = debruijn_graph_pairs(pairs)\n",
    "path = find_euleran_path(graph)\n",
    "answ = pared_path_to_dna(path, d)\n",
    "write_answer(answ)"
   ]
  },
  {
   "cell_type": "code",
   "execution_count": null,
   "metadata": {
    "collapsed": true
   },
   "outputs": [],
   "source": []
  }
 ],
 "metadata": {
  "kernelspec": {
   "display_name": "Python 3",
   "language": "python",
   "name": "python3"
  },
  "language_info": {
   "codemirror_mode": {
    "name": "ipython",
    "version": 3
   },
   "file_extension": ".py",
   "mimetype": "text/x-python",
   "name": "python",
   "nbconvert_exporter": "python",
   "pygments_lexer": "ipython3",
   "version": "3.4.3"
  }
 },
 "nbformat": 4,
 "nbformat_minor": 0
}
