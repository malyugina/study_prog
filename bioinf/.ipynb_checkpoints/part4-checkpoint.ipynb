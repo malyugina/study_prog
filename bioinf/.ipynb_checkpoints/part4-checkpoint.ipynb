{
 "cells": [
  {
   "cell_type": "code",
   "execution_count": 4,
   "metadata": {
    "collapsed": true
   },
   "outputs": [],
   "source": [
    "RNA2PEPTIDE = {\n",
    "    'UUU': 'F',     'CUU': 'L',     'AUU': 'I',     'GUU': 'V',\n",
    "    'UUC': 'F',     'CUC': 'L',     'AUC': 'I',     'GUC': 'V',\n",
    "    'UUA': 'L',     'CUA': 'L',     'AUA': 'I',     'GUA': 'V',\n",
    "    'UUG': 'L',     'CUG': 'L',     'AUG': 'M',     'GUG': 'V',\n",
    "    'UCU': 'S',     'CCU': 'P',     'ACU': 'T',     'GCU': 'A',\n",
    "    'UCC': 'S',     'CCC': 'P',     'ACC': 'T',     'GCC': 'A',\n",
    "    'UCA': 'S',     'CCA': 'P',     'ACA': 'T',     'GCA': 'A',\n",
    "    'UCG': 'S',     'CCG': 'P',     'ACG': 'T',     'GCG': 'A',\n",
    "    'UAU': 'Y',     'CAU': 'H',     'AAU': 'N',     'GAU': 'D',\n",
    "    'UAC': 'Y',     'CAC': 'H',     'AAC': 'N',     'GAC': 'D',\n",
    "    'UAA': 'Stop',  'CAA': 'Q',     'AAA': 'K',     'GAA': 'E',\n",
    "    'UAG': 'Stop',  'CAG': 'Q',     'AAG': 'K',     'GAG': 'E',\n",
    "    'UGU': 'C',     'CGU': 'R',     'AGU': 'S',     'GGU': 'G',\n",
    "    'UGC': 'C',     'CGC': 'R',     'AGC': 'S',     'GGC': 'G',\n",
    "    'UGA': 'Stop',  'CGA': 'R',     'AGA': 'R',     'GGA': 'G',\n",
    "    'UGG': 'W',     'CGG': 'R',     'AGG': 'R',     'GGG': 'G'\n",
    "}\n",
    "\n",
    "DNA2PEPTIDE = {\n",
    "    'TTT': 'F',      'CTT': 'L',      'ATT': 'I',      'GTT': 'V',\n",
    "    'TTC': 'F',      'CTC': 'L',      'ATC': 'I',      'GTC': 'V',\n",
    "    'TTA': 'L',      'CTA': 'L',      'ATA': 'I',      'GTA': 'V',\n",
    "    'TTG': 'L',      'CTG': 'L',      'ATG': 'M',      'GTG': 'V',\n",
    "    'TCT': 'S',      'CCT': 'P',      'ACT': 'T',      'GCT': 'A',\n",
    "    'TCC': 'S',      'CCC': 'P',      'ACC': 'T',      'GCC': 'A',\n",
    "    'TCA': 'S',      'CCA': 'P',      'ACA': 'T',      'GCA': 'A',\n",
    "    'TCG': 'S',      'CCG': 'P',      'ACG': 'T',      'GCG': 'A',\n",
    "    'TAT': 'Y',      'CAT': 'H',      'AAT': 'N',      'GAT': 'D',\n",
    "    'TAC': 'Y',      'CAC': 'H',      'AAC': 'N',      'GAC': 'D',\n",
    "    'TAA': 'Stop',   'CAA': 'Q',      'AAA': 'K',      'GAA': 'E',\n",
    "    'TAG': 'Stop',   'CAG': 'Q',      'AAG': 'K',      'GAG': 'E',\n",
    "    'TGT': 'C',      'CGT': 'R',      'AGT': 'S',      'GGT': 'G',\n",
    "    'TGC': 'C',      'CGC': 'R',      'AGC': 'S',      'GGC': 'G',\n",
    "    'TGA': 'Stop',   'CGA': 'R',      'AGA': 'R',      'GGA': 'G',\n",
    "    'TGG': 'W',      'CGG': 'R',      'AGG': 'R',      'GGG': 'G' \n",
    "}\n",
    "\n",
    "invers_dna = {'A': 'T', 'T': 'A', 'C': 'G', 'G': 'C'}\n",
    "\n",
    "mass_peptide = {'G': 57, 'A': 71, 'S': 87, 'P': 97, 'V': 99, 'T': 101, 'C': 103, 'I': 113, 'L': 113, 'N': 114, \n",
    "                'D': 115, 'K': 128, 'Q': 128, 'E': 129, 'M':131, 'H': 137, 'F': 147, 'R': 156, 'Y': 163, 'W': 186}"
   ]
  },
  {
   "cell_type": "code",
   "execution_count": 2,
   "metadata": {
    "collapsed": false
   },
   "outputs": [],
   "source": []
  },
  {
   "cell_type": "code",
   "execution_count": 5,
   "metadata": {
    "collapsed": false
   },
   "outputs": [
    {
     "data": {
      "text/plain": [
       "14712706211"
      ]
     },
     "execution_count": 5,
     "metadata": {},
     "output_type": "execute_result"
    }
   ],
   "source": [
    "mass_all = 1024\n",
    "amino_acid_masses = sorted(list(set(mass_peptide.values())))\n",
    "\n",
    "def peptides(n, cur_mas_dict):\n",
    "    for m in amino_acid_masses:\n",
    "        if n - m in cur_mas_dict:\n",
    "            cur_mas_dict[n] = cur_mas_dict.get(n,0)+cur_mas_dict[n-m]\n",
    "    return cur_mas_dict\n",
    "\n",
    "\n",
    "def count_peptides(mass):\n",
    "    res_dict = {0:1}\n",
    "    mn = min(amino_acid_masses)\n",
    "    for i in range(mass - mn + 1):\n",
    "        j = i + mn\n",
    "        peptides(j, res_dict)\n",
    "    return res_dict\n",
    "\n",
    "count_peptides(mass_all)[mass_all]"
   ]
  },
  {
   "cell_type": "code",
   "execution_count": null,
   "metadata": {
    "collapsed": false
   },
   "outputs": [],
   "source": [
    "path = 'C:\\\\Users\\\\groza\\\\Downloads\\\\rosalind_ba4c (3).txt'\n",
    "# path = 'input.txt'\n",
    "\n",
    "def read_file(filename):\n",
    "    peptide = [line.rstrip() for line in open(filename)][0]\n",
    "    return peptide\n",
    "\n",
    "def get_mass(peptide):\n",
    "    mass_i = [mass_peptide[i] for i in peptide]\n",
    "    return sum(mass_i)\n",
    "\n",
    "def write_answer(answ):    \n",
    "    fld = open(\"output.txt\", \"w\")\n",
    "    for i in answ:\n",
    "        fld.write(str(i))\n",
    "        fld.write(' ')\n",
    "    fld.close()\n",
    "\n",
    "def solve_3(peptide):\n",
    "    mass = [0]\n",
    "    peptide_new = peptide + peptide\n",
    "    for k in range(len(peptide) - 1):\n",
    "        for i in range(len(peptide)):\n",
    "            mass.append(get_mass(peptide_new[i:i+k+1]))\n",
    "    mass.append(get_mass(peptide))\n",
    "    return mass\n",
    "\n",
    "peptide = read_file(path)\n",
    "mass = solve_3(peptide)\n",
    "write_answer(sorted(mass))"
   ]
  },
  {
   "cell_type": "code",
   "execution_count": null,
   "metadata": {
    "collapsed": false,
    "scrolled": true
   },
   "outputs": [],
   "source": [
    "path = 'C:\\\\Users\\\\groza\\\\Downloads\\\\rosalind_ba4b (1).txt'\n",
    "# path = 'input.txt'\n",
    "\n",
    "def read_file(filename):\n",
    "    dna, peptide = [line.rstrip() for line in open(filename)]\n",
    "    return dna, peptide\n",
    "\n",
    "def DNA2peptide(text):\n",
    "    amino = []\n",
    "    for i in range(0, len(text), 3):\n",
    "        amino.append(DNA2PEPTIDE[text[i:i+3]])\n",
    "    return ''.join(amino)\n",
    "\n",
    "def invers(text):\n",
    "    return ''.join([invers_dna[i] for i in text][::-1])\n",
    "\n",
    "def write_answer(answ):    \n",
    "    fld = open(\"output.txt\", \"w\")\n",
    "    for i in answ:\n",
    "        fld.write(i)\n",
    "        fld.write('\\n')\n",
    "    fld.close()\n",
    "\n",
    "def solve2(dna, peptide):\n",
    "    patterns = []\n",
    "    len_pattern = len(peptide)*3\n",
    "    for i in range(len(dna) - len_pattern + 1):\n",
    "        pattern = dna[i:i+len_pattern]\n",
    "        if DNA2peptide(pattern) == peptide:\n",
    "            patterns.append(pattern)\n",
    "        if DNA2peptide(invers(pattern)) == peptide:\n",
    "            patterns.append(pattern)\n",
    "    return patterns\n",
    "\n",
    "dna, peptide = read_file(path)\n",
    "patterns = solve2(dna, peptide)\n",
    "write_answer(patterns)\n",
    "        \n"
   ]
  },
  {
   "cell_type": "code",
   "execution_count": null,
   "metadata": {
    "collapsed": false
   },
   "outputs": [],
   "source": [
    "def read_file(filename):\n",
    "    lst = [line.rstrip('\\n') for line in open(filename)]\n",
    "    return lst[0]\n",
    "\n",
    "def write_answer(answ):    \n",
    "    fld = open(\"output.txt\", \"w\")\n",
    "    for i in answ:\n",
    "        fld.write(i)\n",
    "    fld.close()\n",
    "    \n",
    "def RNA2peptide(path):\n",
    "    amino = []\n",
    "    for i in range(0, len(text), 3):\n",
    "        if RNA2AMINO[text[i:i+3]] == 'Stop':\n",
    "            break\n",
    "        amino.append(RNA2PEPTIDE[text[i:i+3]])\n",
    "    return amino\n",
    "        \n",
    "text = read_file(path)\n",
    "amino = RNA2peptide(text)\n",
    "write_answer(amino)"
   ]
  }
 ],
 "metadata": {
  "kernelspec": {
   "display_name": "Python 3",
   "language": "python",
   "name": "python3"
  },
  "language_info": {
   "codemirror_mode": {
    "name": "ipython",
    "version": 3
   },
   "file_extension": ".py",
   "mimetype": "text/x-python",
   "name": "python",
   "nbconvert_exporter": "python",
   "pygments_lexer": "ipython3",
   "version": "3.4.3"
  }
 },
 "nbformat": 4,
 "nbformat_minor": 0
}
