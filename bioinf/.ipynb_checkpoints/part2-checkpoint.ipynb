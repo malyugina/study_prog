{
 "cells": [
  {
   "cell_type": "code",
   "execution_count": 70,
   "metadata": {
    "collapsed": true
   },
   "outputs": [],
   "source": [
    "#Dna = []\n",
    "\n",
    "text_ = \"GCTCGTGACTCCTAACGCTCGTAAGGAATACCGGAATCGTCTGTAGCTCCAAAATCACGAACCGTACGCTTTCGGAGACGGGTAACAGTGTTTTCTTGGGCGGTACGGTCGCATTAGCAAAGATATCTGCTGGCACACATATTTCTATATGTCAGAAGCCGCGCCGCCTGAGCGTCTTCCGCATAATGTTAGTCCCGTCC\"\n",
    "k = 7\n",
    "#d = 2\n",
    "matrix = [[0.25, 0.179, 0.357, 0.25, 0.143, 0.179, 0.321],\n",
    "[0.25, 0.321, 0.107, 0.214, 0.286, 0.321, 0.214],\n",
    "[0.321, 0.286, 0.286, 0.321, 0.393, 0.321, 0.25],\n",
    "[0.179, 0.214, 0.25, 0.214, 0.179, 0.179, 0.214]]\n"
   ]
  },
  {
   "cell_type": "code",
   "execution_count": 71,
   "metadata": {
    "collapsed": false
   },
   "outputs": [],
   "source": [
    "dict_ = {\"A\": 0, \"C\": 1, \"G\": 2, \"T\": 3}"
   ]
  },
  {
   "cell_type": "code",
   "execution_count": 72,
   "metadata": {
    "collapsed": false,
    "scrolled": true
   },
   "outputs": [
    {
     "name": "stdout",
     "output_type": "stream",
     "text": [
      "9.695036241112502e-05 GCTCGTG\n",
      "0.00012448426533588454 GCTCGTA\n",
      "0.00024827308784866354 GTAAGGA\n",
      "0.00033485571932529833 GCTGGCA\n"
     ]
    }
   ],
   "source": [
    "import numpy as np\n",
    "\n",
    "max_pattern = 0\n",
    "resulte_matrix = np.zeros((4, 5))\n",
    "for i in range(0, len(text_) - k + 1, 1):\n",
    "    pattern = text_[i:i+k]\n",
    "    prob_pattern = 1.0\n",
    "    for j, y in enumerate(pattern):\n",
    "        prob_pattern = prob_pattern * matrix[dict_[y]][j]\n",
    "    if prob_pattern > max_pattern:\n",
    "        max_pattern = prob_pattern\n",
    "        print (max_pattern, pattern)"
   ]
  },
  {
   "cell_type": "code",
   "execution_count": 58,
   "metadata": {
    "collapsed": false
   },
   "outputs": [
    {
     "data": {
      "text/plain": [
       "0.0009"
      ]
     },
     "execution_count": 58,
     "metadata": {},
     "output_type": "execute_result"
    }
   ],
   "source": [
    "prob_pattern"
   ]
  },
  {
   "cell_type": "code",
   "execution_count": 50,
   "metadata": {
    "collapsed": false
   },
   "outputs": [],
   "source": [
    "resulte_matrix_0 = np.zeros((4, 5))\n",
    "for i, y in enumerate(resulte_matrix.T):\n",
    "    resulte_matrix_0.T[i] =  y/sum(y)"
   ]
  },
  {
   "cell_type": "code",
   "execution_count": 50,
   "metadata": {
    "collapsed": false
   },
   "outputs": [],
   "source": [
    "def problem16(Dna, k):\n",
    "    pattern = {}\n",
    "    for i in range(4**k):\n",
    "        pattern_i = numder_to_DNA(i, k)\n",
    "        count = 0\n",
    "        for string in Dna:\n",
    "            count = count + find_min_distance(string, pattern_i)\n",
    "        pattern[pattern_i] = count\n",
    "\n",
    "    min_ = len(Dna[0])\n",
    "    for i in pattern:\n",
    "        if pattern[i] < min_:\n",
    "            min_ = pattern[i]\n",
    "\n",
    "    result = []\n",
    "    for i in pattern:\n",
    "        if pattern[i] == min_:\n",
    "            resulte.append(i)\n",
    "            \n",
    "    return resulte"
   ]
  },
  {
   "cell_type": "code",
   "execution_count": null,
   "metadata": {
    "collapsed": true
   },
   "outputs": [],
   "source": [
    "for i in pattern:\n",
    "    if pattern[i] == min_:\n",
    "        print (i, pattern[i])"
   ]
  },
  {
   "cell_type": "code",
   "execution_count": 38,
   "metadata": {
    "collapsed": true
   },
   "outputs": [],
   "source": [
    "def find_min_distance(text_, pattern):\n",
    "    distance = len(pattern)\n",
    "    for i in range(0, len(text_) - len(pattern) + 1, 1):\n",
    "        if compute_distance(text_[i:i+len(pattern)], pattern) < distance:\n",
    "            distance = compute_distance(text_[i:i+len(pattern)], pattern)\n",
    "    return distance"
   ]
  },
  {
   "cell_type": "code",
   "execution_count": 27,
   "metadata": {
    "collapsed": false
   },
   "outputs": [],
   "source": [
    "def find_k_d_motif(Dna, k, d):\n",
    "    count = 0\n",
    "    resulte = []\n",
    "    for i in range(4**k):\n",
    "        count = 0\n",
    "        pattern_i = numder_to_DNA(i, k)\n",
    "        for string in Dna:\n",
    "            for j in range(0, len(string) - k + 1, 1):\n",
    "                if compute_distance(pattern_i, string[j:j+k]) <= d:\n",
    "                    count = count + 1\n",
    "                    break\n",
    "        if count == len(Dna):\n",
    "            resulte.append(pattern_i)\n",
    "    \n",
    "    return result"
   ]
  },
  {
   "cell_type": "code",
   "execution_count": 2,
   "metadata": {
    "collapsed": true
   },
   "outputs": [],
   "source": [
    "def compute_distance(text_1, text_2):\n",
    "    count = 0\n",
    "    for i, s in enumerate(text_1):\n",
    "        if s != text_2[i]:\n",
    "            count = count + 1\n",
    "    return count"
   ]
  },
  {
   "cell_type": "code",
   "execution_count": 11,
   "metadata": {
    "collapsed": true
   },
   "outputs": [],
   "source": [
    "def find_frequency(text_, pattern):\n",
    "    len_pattern = len(pattern)\n",
    "    count = 0\n",
    "    for i in range(0, len(text_) - len_pattern + 1, 1):\n",
    "        if text_[i:i+len_pattern] == pattern:\n",
    "            count = count + 1\n",
    "    return count"
   ]
  },
  {
   "cell_type": "code",
   "execution_count": 3,
   "metadata": {
    "collapsed": true
   },
   "outputs": [],
   "source": [
    "def numder_to_DNA(number, k):\n",
    "    bin_ = bin(number)[2:]\n",
    "    if len(bin_)%2 == 1:\n",
    "        bin_ = '0'+bin_\n",
    "\n",
    "    dict_ = {\"00\":\"A\", \"01\":\"C\", \"10\":\"G\", \"11\":\"T\"}\n",
    "    text_ = []\n",
    "    for i in range(int(len(bin_)/2), k, 1):\n",
    "        text_.append(\"A\")\n",
    "    for i in range(0, len(bin_)-1, 2):\n",
    "        text_.append(dict_[bin_[i:i+2]])\n",
    "    \n",
    "    return ''.join(text_)"
   ]
  }
 ],
 "metadata": {
  "kernelspec": {
   "display_name": "Python 3",
   "language": "python",
   "name": "python3"
  },
  "language_info": {
   "codemirror_mode": {
    "name": "ipython",
    "version": 3
   },
   "file_extension": ".py",
   "mimetype": "text/x-python",
   "name": "python",
   "nbconvert_exporter": "python",
   "pygments_lexer": "ipython3",
   "version": "3.4.3"
  }
 },
 "nbformat": 4,
 "nbformat_minor": 0
}
