{
 "cells": [
  {
   "cell_type": "code",
   "execution_count": 1,
   "metadata": {
    "collapsed": true
   },
   "outputs": [],
   "source": [
    "with open(\"./codon_rna.txt\", \"r\") as o:\n",
    "    lines = o.readlines()\n",
    "rna_acid_dict = {}\n",
    "for l in lines:\n",
    "    rna, amino_acid = l.strip().split(' ')\n",
    "    rna_acid_dict[rna] = amino_acid"
   ]
  },
  {
   "cell_type": "code",
   "execution_count": 3,
   "metadata": {
    "collapsed": false
   },
   "outputs": [
    {
     "name": "stdout",
     "output_type": "stream",
     "text": [
      "MFIHGREYRCLYHVPLWQVEILAFGFYFGCPIERVCSGLDASGYGAWAVITARGRFGGENRKALTNLLSAYNGHSATAIPREGYRISKHPARDRQICEISISIGQPTDNPALSTYAARPVRLVILRRKSLRHMSVDLCDYPGSPGSAYIRFNSRDQVLLIILPVAATFGNVVLTSQSDEIHSTEWSQGSFLTFRHTALLISDESCKTLLNQEGQGRPTITPTPWASLPNQLVGRRNYERVSHISVANTSMFAGGISIPRRTMRLTLGAKPDSLGNFPLGLFPRQFGNATAQVYSSVRLIQCSCWSVACFGMRGGPISSRGILPILYSLADGLTREEWYSWDEWHSVRPPAERSEGSGVDTGSPVRLVTVQLLSLGSRMYNLPLHRHSHIIVFFSKVEFRTSSQLNFMNCNPAEEPQSIPVTALSHDDPNIFTIKLERLSALLVVQHRDTQLGAHGFEQYLNQRRPTISHSIETSCGSNTGHSYSVLPLVWHPCWLKGLHTQHLSNQCASGRDSTANQLPSWHLVHGHFDDFIDGDRCVSALELVLNLGNDTARAWWLTAEMRGTIGNRLDLPLCDCAQRKSISPADEASLFKAHCVPRVFSLAAAQDRTCMTYSTFNFVSRGWRTCPLRVLVSRKSNVLPAPRISGRSKAQRWLPRFLFYGTTDEAWTLYSVRLRSSRSKRIDVVHNLGQTEPIRAYAPYIRCLLLEFAPMGSTVFRPMMAMFSDSGLPSFHQASWLGKIPSICAVSPPRRALSECKAPYYIRSTRFGALQHALHGPTRALSYIWLHRKRPLRVGSSAMWLQDRLTSYAQRSLSDSAEVSNRSTRNPDFSGGFIKQFVPQFPICILTRRFIVIPPRGILKYSAIVTDGRGVAHPVTKDANVTRGEFSGTNQIDAFRKSGPCTATRRVVAYIRLTLRAAMRAYLHAPSAWLAPSPTLLKMRKDRYRPVAARFSGLPFADFRFGGTHCIALRSSRDDLFGERPTLSARAVKLFDTRRNADRVLTSSYLRGGINLNTRQHYLYSSGKARAGPNLRPQAFLGALCKRYRARRTSLFNQGAHSRPRVSCAPRLRQRNHVICQNRTRLKRAPALFWLGRRKTSVVANPQYSDPDLGLMPDIPIAFISGLGSRGRDDFDANQFITSVAHLSSKRNTSQSLSVGPRVWMKRTDICRLSRSPVRSEHYLFIGVAFFHLYGSCSIPSRLPMISRELERLDPTLESAGDLRTFFFNSYVNRETVTGLSSIQLGAPPFQQAWNIQPRESGERFRDDTALLLKSAGLLRPRIFSQCTLQRLTYADILCSLAVCLDAVCEVYGVGTTGFHAVGLRTQLLKAGIESVIKASTYCNLPCLLDANVPLSRLPDMSLLLPTTMMRAPLLSTEPHETVTCENFARWNSPTSPELVVSEMEDCYAEIVFGQRLQLDRVAWVTRLRFPFCRESVVISVFLSVKPASIRDPCQVYSRPSSHRSSASSWNWQTPAFYTCRVLTEHTPGVWICVWEDQSDNANFGCVSTCYFNNQDTLSDNPVGDAGACRSLDLVRCLNAFLRKSDSSPLVLPLPKRRDQLALGSSYVRTQCTISSPDCPIQKRPDSFTSKDSINPLSDLYIVKRATRSPLAVTRCFAYPHKGYRRDTPKKLNHVLLISPDGDSGPVKAVRPFDVSAFFEASLTLPQRQLLCHGNLWSQNPRGSYFFTAASCFRVMCYSLVCDSDIWGDRLYVLPLEYRGVECMTGKQSFTLEMPMGSPLDWIRSVWRPQFLGASRAFMSKYSKRDLGTVRKLVWTFSIYSQVSSWGSLSVFYMPMLLSAEIASRPKMISSASIYRNGEQKLIITHRGLYTCSDFVLRRVITSTCSSESPGSAAGDSGRRIWVLISRREASEGIASTLRLQPVAGYLFTSSACPGASLVEVIRGMAYISGMTLYESPENMFSRIVPFNHRIIEYMVHNGLAPVKRPSNHKSGYGSASITNSSESTDSIIELELKNTDKQPHLKWFLASVTTSIIFNSNMGQSPGRRRPLHQSNFVVLRPRVKVPPEPPPKSGSIGVSAWPVGCPSLQSRVDIDVILIMWEHPGHNGSIVCVAMQVTQVSAIPEWTFRARAASAAHAVLPQRKHQIYWSTKPVMLAYRKKIRRSGVCLFSCTETSAICGLVRYYLCPYSKTFTLLRFWIHVSKVRWSKLHTKGSRLHILIDCPPWGSHGRYGLLFIVFREATPRSQFRLIAFLAPGCTPGIFDAPRAGAARCVILDVRNSICLQAVSANDTGVLHLRRLTLVFRRNAGFVLNNTCSETILTSAPLHLIVMVLAGLVSGCVRLTSSGELCGKHSPGLTNCCGEHIDDQLCPLETERGKGKIPLQWLLKGYRIYLHVVRIQRRRAVCFRSSRRVFSSDQVARWILRVRTRMRSYNILAIIISTRSHGTLASKCGYLAVQIAPWEFKDFSSHRRAIDTSTTCTTKMLGLELQLTASSLHLEVPTSRLKLMPSTEGRAIRNMISAADVMCSIHYSYSPYDKPFRWSAIMSDSTLRNLQSLRERSIRQEGPLPGMQCRCKWLRGRLTTIIELLRNVVIRPLQVTNESRGHGSLTVTLSRIADISPMRAVDVLAVRDSTDQAVGRSLSVSVYTPTVDKSSTGSPLREAGQQVGRYSVTVCAVRHSLKRCFVWLTSRFLNAPPRLKCRMAVREAYVCRLASFASITYIAFPMNLIKVCHRQNTDSHAYTAFAYNSHDEAMSCEAPLEFSYTRSANASSLSLSVESSPLSWNAPHRGFETNPAHIKCSKTTWYGLSCDTRRNSQLRTIRFTTSARSWPLLNEPEIKLLTFVVMCDSYFRPHVDAQQMRGLHCYGGARGGAKPNQFGKVTLGRDLYGFPVRTSLMKTCPVLNAIPRIRPIALGPIPLVDDGIKVPRPALTQHVTVEYNHATPARDLITLCDDILWPYGSRTCSPPQQPQEELRAYMALIRGELLVRTWIYGTGSMLLSRGSHMRCPPYERWSIGLDKESERYYSVDLPSLVPKLNYAKSRRAQTDAKIIRGRVLAFEPNELYRVNIDAQRRELPMLRYPMKGRMPIHRTMLVFRPKRALYYLRRNLGEFLVQKILISAATTTSIMYTFCMTDT\n"
     ]
    }
   ],
   "source": [
    "#problem 36 - Protein Translation Problem\n",
    "def translate_rna(rna, rna_acid_dict):\n",
    "    i = 0\n",
    "    res = ''\n",
    "    while i < len(rna):\n",
    "        cur_acid = rna_acid_dict[rna[i:i+3]]\n",
    "        if cur_acid != 'Stop':\n",
    "            res += cur_acid\n",
    "        else:\n",
    "            return res\n",
    "        i += 3\n",
    "    return res\n",
    "\n",
    "#rna = 'AUGGCCAUGGCGCCCAGAACUGAGAUCAAUAGUACCCGUAUUAACGGGUGA'\n",
    "with open(\"./input36.txt\", \"r\") as o:\n",
    "    lines = o.readlines()\n",
    "\n",
    "rna = lines[0].strip()\n",
    "\n",
    "print translate_rna(rna, rna_acid_dict)"
   ]
  },
  {
   "cell_type": "code",
   "execution_count": 13,
   "metadata": {
    "collapsed": false
   },
   "outputs": [
    {
     "name": "stdout",
     "output_type": "stream",
     "text": [
      "TGAAAACCAAGGCGTATACTGAAA\n",
      "TTCCAGTACACGCCGTGGTTCTCT\n",
      "TTCCAATACACTCCTTGGTTCTCT\n",
      "TTCCAATATACCCCCTGGTTCAGT\n",
      "TTCCAGTATACACCCTGGTTCTCG\n",
      "TTTCAATACACTCCCTGGTTCAGC\n",
      "GCTGAACCAGGGGGTGTACTGAAA\n",
      "TTCCAGTACACGCCCTGGTTCTCT\n",
      "TGAGAACCATGGTGTATATTGAAA\n",
      "CGAAAACCATGGTGTGTACTGGAA\n",
      "AGAAAACCAAGGGGTATATTGGAA\n",
      "TTCCAGTACACTCCATGGTTCAGC\n",
      "CGAAAACCAGGGGGTGTACTGAAA\n",
      "TTCCAGTATACTCCCTGGTTTTCT\n",
      "ACTGAACCAAGGCGTATATTGAAA\n",
      "TGAAAACCATGGTGTGTACTGAAA\n",
      "AGAAAACCAAGGGGTATATTGAAA\n",
      "TTCCAGTATACGCCCTGGTTTTCC\n",
      "ACTGAACCAAGGTGTATACTGAAA\n",
      "GGAGAACCACGGAGTATACTGGAA\n"
     ]
    }
   ],
   "source": [
    "#problem 37 - Peptide Encoding Problem\n",
    "with open(\"./codon_rna.txt\", \"r\") as o:\n",
    "    lines = o.readlines()\n",
    "dna_acid_dict = {}\n",
    "for l in lines:\n",
    "    dna, amino_acid = l.strip().split(' ')\n",
    "    dna_acid_dict[dna.replace(\"U\",\"T\")] = amino_acid\n",
    "\n",
    "\n",
    "def translate_rna(rna, rna_acid_dict):\n",
    "    i = 0\n",
    "    res = ''\n",
    "    while i < len(rna):\n",
    "        cur_acid = rna_acid_dict[rna[i:i+3]]\n",
    "        if cur_acid != 'Stop':\n",
    "            res += cur_acid\n",
    "        else:\n",
    "            return res\n",
    "        i += 3\n",
    "    return res\n",
    "\n",
    "def reverse_str(string):\n",
    "    res = ''\n",
    "    reverse = {'A' : 'T', 'T':'A', 'C':'G', 'G':'C'}\n",
    "    for char in string[::-1]:\n",
    "        res += reverse[char]\n",
    "    return res\n",
    "\n",
    "\n",
    "with open(\"./input37-1.txt\", \"r\") as o:\n",
    "    lines = o.readlines()\n",
    "\n",
    "dna = lines[0].strip()\n",
    "peptide = lines[1].strip()\n",
    "\n",
    "for i in range(len(dna) - 3 * len(peptide)):\n",
    "    cur_str = dna[i:i+3*len(peptide)]\n",
    "    if (translate_rna(cur_str, dna_acid_dict) == peptide):\n",
    "        print cur_str\n",
    "    if (translate_rna(reverse_str(cur_str), dna_acid_dict) == peptide):\n",
    "        print cur_str"
   ]
  },
  {
   "cell_type": "code",
   "execution_count": 4,
   "metadata": {
    "collapsed": false
   },
   "outputs": [
    {
     "name": "stdout",
     "output_type": "stream",
     "text": [
      "GGCCAT\n"
     ]
    }
   ],
   "source": [
    "def reverse_str(string):\n",
    "    res = ''\n",
    "    reverse = {'A' : 'T', 'T':'A', 'C':'G', 'G':'C'}\n",
    "    for char in string[::-1]:\n",
    "        res += reverse[char]\n",
    "    return res\n",
    "\n",
    "\n",
    "print reverse_str('ATGGCC')"
   ]
  },
  {
   "cell_type": "code",
   "execution_count": 43,
   "metadata": {
    "collapsed": false
   },
   "outputs": [
    {
     "name": "stdout",
     "output_type": "stream",
     "text": [
      "0 57 57 71 99 101 101 113 114 115 128 129 131 131 131 147 156 158 163 170 172 216 228 229 229 230 241 245 245 246 257 262 278 285 286 292 294 303 328 329 342 345 356 376 376 377 385 386 393 399 404 408 409 423 434 457 457 458 475 498 507 508 508 514 515 523 524 532 535 537 539 558 565 586 606 613 615 621 622 638 639 645 654 663 666 668 670 678 679 687 714 737 744 749 752 753 753 760 769 776 780 794 799 809 810 817 843 850 851 861 866 880 884 891 900 907 907 908 911 916 923 946 973 981 982 990 992 994 997 1006 1015 1021 1022 1038 1039 1045 1047 1054 1074 1095 1102 1121 1123 1125 1128 1136 1137 1145 1146 1152 1152 1153 1162 1185 1202 1203 1203 1226 1237 1251 1252 1256 1261 1267 1274 1275 1283 1284 1284 1304 1315 1318 1331 1332 1357 1366 1368 1374 1375 1382 1398 1403 1414 1415 1415 1419 1430 1431 1431 1432 1444 1488 1490 1497 1502 1504 1513 1529 1529 1529 1531 1532 1545 1546 1547 1559 1559 1561 1589 1603 1603 1660\n"
     ]
    }
   ],
   "source": [
    "#problem38 - Generating Theoretical Spectrum Problem\n",
    "\n",
    "with open(\"./protein_mass.txt\", \"r\") as o:\n",
    "    lines = o.readlines()\n",
    "prot_mass_dict = {}\n",
    "for l in lines:\n",
    "    protein, mass = l.strip().split(' ')\n",
    "    prot_mass_dict[protein] = int(mass)\n",
    "\n",
    "\n",
    "def translate_rna(rna, rna_acid_dict):\n",
    "    i = 0\n",
    "    res = ''\n",
    "    while i < len(rna):\n",
    "        cur_acid = rna_acid_dict[rna[i:i+3]]\n",
    "        if cur_acid != 'Stop':\n",
    "            res += cur_acid\n",
    "        else:\n",
    "            return res\n",
    "        i += 3\n",
    "    return res\n",
    "\n",
    "def reverse_str(string):\n",
    "    res = ''\n",
    "    reverse = {'A' : 'T', 'T':'A', 'C':'G', 'G':'C'}\n",
    "    for char in string[::-1]:\n",
    "        res += reverse[char]\n",
    "    return res\n",
    "\n",
    "def cyclospectrum(peptide, prot_mass_dict):\n",
    "    masses = []\n",
    "    for i in range(len(peptide)):\n",
    "        if i == 0:\n",
    "            masses.append(0)\n",
    "        else:\n",
    "            for j in range(len(peptide)):\n",
    "                if j + i < len(peptide):\n",
    "                    #print peptide[j:j+i]\n",
    "                    masses.append(sum([prot_mass_dict[pr] for pr in peptide[j:j+i]]))\n",
    "                else:\n",
    "                    #print peptide[j:]+peptide[:i - (len(peptide)-j)]\n",
    "                    masses.append(sum([prot_mass_dict[pr] for pr in peptide[j:]+peptide[:i - (len(peptide)-j)] ]))\n",
    "    return masses + [sum([prot_mass_dict[pr] for pr in peptide])]\n",
    "\n",
    "with open(\"./input38-1.txt\", \"r\") as o:\n",
    "    lines = o.readlines()\n",
    "\n",
    "peptide = lines[0].strip()\n",
    "print ' '.join(map(str, sorted(cyclospectrum(peptide, prot_mass_dict))))\n"
   ]
  },
  {
   "cell_type": "code",
   "execution_count": 44,
   "metadata": {
    "collapsed": true
   },
   "outputs": [],
   "source": [
    "def linear_spectrum(peptide, prot_mass_dict):\n",
    "    substrings = []\n",
    "    for i in range(len(peptide)+1):\n",
    "        if i != 0:\n",
    "            for j in range(len(peptide)-i+1):\n",
    "                substrings.append(peptide[j:j+i])\n",
    "    substrings = list(set(substrings))\n",
    "    return [sum([prot_mass_dict[pr] for pr in substr]) for substr in substrings] + [0]"
   ]
  },
  {
   "cell_type": "code",
   "execution_count": 58,
   "metadata": {
    "collapsed": false
   },
   "outputs": [
    {
     "data": {
      "text/plain": [
       "104954019001718"
      ]
     },
     "execution_count": 58,
     "metadata": {},
     "output_type": "execute_result"
    }
   ],
   "source": [
    "#problem 39 - Counting Peptides with Given Mass Problem\n",
    "\n",
    "amino_acid_masses = sorted(list(set(prot_mass_dict.values())))\n",
    "\n",
    "def peptides(n, cur_mas_dict):\n",
    "    for m in amino_acid_masses:\n",
    "        if n - m in cur_mas_dict:\n",
    "            cur_mas_dict[n] = cur_mas_dict.get(n,0)+cur_mas_dict[n-m]\n",
    "    return cur_mas_dict\n",
    "\n",
    "\n",
    "def count_peptides(mass):\n",
    "    res_dict = {0:1}\n",
    "    mn = min(amino_acid_masses)\n",
    "    for i in range(mass - mn + 1):\n",
    "        j = i + mn\n",
    "        peptides(j, res_dict)\n",
    "    return res_dict\n",
    "\n",
    "with open(\"./input39.txt\", \"r\") as o:\n",
    "    lines = o.readlines()\n",
    "\n",
    "mass = int(lines[0].strip())\n",
    "count_peptides(mass)[mass]"
   ]
  },
  {
   "cell_type": "code",
   "execution_count": 57,
   "metadata": {
    "collapsed": false
   },
   "outputs": [
    {
     "data": {
      "text/plain": [
       "14712706211"
      ]
     },
     "execution_count": 57,
     "metadata": {},
     "output_type": "execute_result"
    }
   ],
   "source": [
    "count_peptides(1024)[1024]"
   ]
  },
  {
   "cell_type": "markdown",
   "metadata": {},
   "source": [
    "\n",
    "### Implement CyclopeptideSequencing\n",
    "CYCLOPEPTIDESEQUENCING(Spectrum)\n",
    "\n",
    "    List ← {0-peptide}\n",
    "    \n",
    "    while List is nonempty\n",
    "    \n",
    "        List ← Expand(List)\n",
    "        \n",
    "        for each peptide Peptide in List\n",
    "        \n",
    "            if Cyclospectrum(Peptide) = Spectrum\n",
    "            \n",
    "                output Peptide\n",
    "                \n",
    "                remove Peptide from List\n",
    "                \n",
    "            else if Peptide is not consistent with Spectrum\n",
    "            \n",
    "                remove Peptide from List"
   ]
  },
  {
   "cell_type": "markdown",
   "metadata": {},
   "source": [
    "    CYCLOPEPTIDESEQUENCING(Spectrum)\n",
    "        Peptides ← a set containing only the empty peptide\n",
    "        while Peptides is nonempty\n",
    "            Peptides ← Expand(Peptides)\n",
    "            for each peptide Peptide in Peptides\n",
    "                if Mass(Peptide) = ParentMass(Spectrum)\n",
    "                    if Cyclospectrum(Peptide) = Spectrum\n",
    "                        output Peptide\n",
    "                    remove Peptide from Peptides\n",
    "                else if Peptide is not consistent with Spectrum\n",
    "                    remove Peptide from Peptides"
   ]
  },
  {
   "cell_type": "code",
   "execution_count": 125,
   "metadata": {
    "collapsed": false
   },
   "outputs": [
    {
     "name": "stdout",
     "output_type": "stream",
     "text": [
      "[[57], [71], [87], [97], [99], [101], [103], [113], [114], [115], [128], [129], [131], [137], [147], [156], [163], [186]]\n"
     ]
    }
   ],
   "source": [
    "\n",
    "\n",
    "def expand_list_pep(l):\n",
    "    output = []\n",
    "    for x in l:\n",
    "        output += expand_peptides(x)\n",
    "    return output\n",
    "\n",
    "\n",
    "def expand_peptides(p):\n",
    "    output = []\n",
    "    for m in amino_acid_masses:\n",
    "        output += [p +[m]]\n",
    "    return output\n",
    "\n",
    "print expand_list_pep([[]])"
   ]
  },
  {
   "cell_type": "code",
   "execution_count": null,
   "metadata": {
    "collapsed": true
   },
   "outputs": [],
   "source": [
    "def cyclo_sequencing(spectrum):    \n",
    "    peptides = [[]]\n",
    "    res = []\n",
    "    while peptides:\n",
    "        peptides = expand_list_pep(peptides)\n",
    "        res += [c for c in candidatos if spectrum(subpeptides_n, c) == spectrum]\n",
    "        peptides = [c for c in peptides if compatible_specs(c, spectrum)]\n",
    "    return res"
   ]
  },
  {
   "cell_type": "code",
   "execution_count": 131,
   "metadata": {
    "collapsed": false
   },
   "outputs": [
    {
     "name": "stdout",
     "output_type": "stream",
     "text": [
      "[]\n",
      "[]\n",
      "[]\n",
      "[]\n",
      "[]\n"
     ]
    },
    {
     "ename": "KeyboardInterrupt",
     "evalue": "",
     "output_type": "error",
     "traceback": [
      "\u001b[0;31m---------------------------------------------------------------------------\u001b[0m",
      "\u001b[0;31mKeyboardInterrupt\u001b[0m                         Traceback (most recent call last)",
      "\u001b[0;32m<ipython-input-131-a07008e955c5>\u001b[0m in \u001b[0;36m<module>\u001b[0;34m()\u001b[0m\n\u001b[1;32m     66\u001b[0m \u001b[0;34m\u001b[0m\u001b[0m\n\u001b[1;32m     67\u001b[0m \u001b[0mspectrum\u001b[0m \u001b[0;34m=\u001b[0m \u001b[0mmap\u001b[0m\u001b[0;34m(\u001b[0m\u001b[0mint\u001b[0m\u001b[0;34m,\u001b[0m \u001b[0mlines\u001b[0m\u001b[0;34m[\u001b[0m\u001b[0;36m0\u001b[0m\u001b[0;34m]\u001b[0m\u001b[0;34m.\u001b[0m\u001b[0mstrip\u001b[0m\u001b[0;34m(\u001b[0m\u001b[0;34m)\u001b[0m\u001b[0;34m.\u001b[0m\u001b[0msplit\u001b[0m\u001b[0;34m(\u001b[0m\u001b[0;34m' '\u001b[0m\u001b[0;34m)\u001b[0m\u001b[0;34m)\u001b[0m\u001b[0;34m\u001b[0m\u001b[0m\n\u001b[0;32m---> 68\u001b[0;31m \u001b[0;32mprint\u001b[0m \u001b[0mcyclopeptide_sequencing\u001b[0m\u001b[0;34m(\u001b[0m\u001b[0mspectrum\u001b[0m\u001b[0;34m)\u001b[0m\u001b[0;34m\u001b[0m\u001b[0m\n\u001b[0m",
      "\u001b[0;32m<ipython-input-131-a07008e955c5>\u001b[0m in \u001b[0;36mcyclopeptide_sequencing\u001b[0;34m(spectrum)\u001b[0m\n\u001b[1;32m     59\u001b[0m                     \u001b[0mres\u001b[0m\u001b[0;34m.\u001b[0m\u001b[0mappend\u001b[0m\u001b[0;34m(\u001b[0m\u001b[0mpeptide\u001b[0m\u001b[0;34m)\u001b[0m\u001b[0;34m\u001b[0m\u001b[0m\n\u001b[1;32m     60\u001b[0m             \u001b[0;32melse\u001b[0m\u001b[0;34m:\u001b[0m\u001b[0;34m\u001b[0m\u001b[0m\n\u001b[0;32m---> 61\u001b[0;31m                 \u001b[0mpeptides\u001b[0m\u001b[0;34m.\u001b[0m\u001b[0mremove\u001b[0m\u001b[0;34m(\u001b[0m\u001b[0mcur_peptide\u001b[0m\u001b[0;34m)\u001b[0m\u001b[0;34m\u001b[0m\u001b[0m\n\u001b[0m\u001b[1;32m     62\u001b[0m     \u001b[0;32mreturn\u001b[0m \u001b[0mres\u001b[0m\u001b[0;34m\u001b[0m\u001b[0m\n\u001b[1;32m     63\u001b[0m \u001b[0;34m\u001b[0m\u001b[0m\n",
      "\u001b[0;31mKeyboardInterrupt\u001b[0m: "
     ]
    }
   ],
   "source": [
    "with open(\"./protein_mass.txt\", \"r\") as o:\n",
    "    lines = o.readlines()\n",
    "prot_mass_dict = {}\n",
    "for l in lines:\n",
    "    protein, mass = l.strip().split(' ')\n",
    "    prot_mass_dict[protein] = int(mass)\n",
    "\n",
    "\n",
    "def translate_rna(rna, rna_acid_dict):\n",
    "    i = 0\n",
    "    res = ''\n",
    "    while i < len(rna):\n",
    "        cur_acid = rna_acid_dict[rna[i:i+3]]\n",
    "        if cur_acid != 'Stop':\n",
    "            res += cur_acid\n",
    "        else:\n",
    "            return res\n",
    "        i += 3\n",
    "    return res\n",
    "\n",
    "def reverse_str(string):\n",
    "    res = ''\n",
    "    reverse = {'A' : 'T', 'T':'A', 'C':'G', 'G':'C'}\n",
    "    for char in string[::-1]:\n",
    "        res += reverse[char]\n",
    "    return res\n",
    "\n",
    "def cyclospectrum_masses(peptide, prot_mass_dict):\n",
    "    masses = []\n",
    "    for i in range(len(peptide)):\n",
    "        if i == 0:\n",
    "            masses.append(0)\n",
    "        else:\n",
    "            for j in range(len(peptide)):\n",
    "                if j + i < len(peptide):\n",
    "                    #print peptide[j:j+i]\n",
    "                    masses.append(sum(peptide[j:j+i]))\n",
    "                else:\n",
    "                    #print peptide[j:]+peptide[:i - (len(peptide)-j)]\n",
    "                    masses.append(sum(peptide[j:]+peptide[:i - (len(peptide)-j)]))\n",
    "    return masses + [sum(peptide)]\n",
    "\n",
    "\n",
    "def cyclopeptide_sequencing(spectrum):\n",
    "    res = []\n",
    "    peptides = [[]]\n",
    "    spectrum_mass = np.max(spectrum)\n",
    "    while len(peptides) > 0:\n",
    "        print res\n",
    "        peptides = expand_list_pep(peptides)\n",
    "        #print peptides\n",
    "        for cur_peptide in peptides:\n",
    "            if [] in cur_peptide:\n",
    "                cur_peptide.remove([])\n",
    "            #print cur_peptide\n",
    "            cur_peptide_mass = sum(cur_peptide)\n",
    "            if cur_peptide_mass == spectrum_mass:\n",
    "                if cyclospectrum_masses(cur_peptide, prot_mass_dict) == spectrum:\n",
    "                    res.append(peptide)\n",
    "            else:\n",
    "                peptides.remove(cur_peptide)\n",
    "    return res\n",
    "    \n",
    "with open(\"./input40.txt\", \"r\") as o:\n",
    "    lines = o.readlines()\n",
    "\n",
    "spectrum = map(int, lines[0].strip().split(' '))\n",
    "print cyclopeptide_sequencing(spectrum)"
   ]
  },
  {
   "cell_type": "code",
   "execution_count": 130,
   "metadata": {
    "collapsed": false
   },
   "outputs": [
    {
     "name": "stdout",
     "output_type": "stream",
     "text": [
      "1\n"
     ]
    }
   ],
   "source": [
    "print 1"
   ]
  },
  {
   "cell_type": "code",
   "execution_count": null,
   "metadata": {
    "collapsed": true
   },
   "outputs": [],
   "source": []
  },
  {
   "cell_type": "code",
   "execution_count": 2,
   "metadata": {
    "collapsed": false
   },
   "outputs": [
    {
     "ename": "ValueError",
     "evalue": "need more than 1 value to unpack",
     "output_type": "error",
     "traceback": [
      "\u001b[1;31m---------------------------------------------------------------------------\u001b[0m",
      "\u001b[1;31mValueError\u001b[0m                                Traceback (most recent call last)",
      "\u001b[1;32m<ipython-input-2-d5eb996da5a7>\u001b[0m in \u001b[0;36m<module>\u001b[1;34m()\u001b[0m\n\u001b[0;32m      6\u001b[0m \u001b[0mprot_mass_dict\u001b[0m \u001b[1;33m=\u001b[0m \u001b[1;33m{\u001b[0m\u001b[1;33m}\u001b[0m\u001b[1;33m\u001b[0m\u001b[0m\n\u001b[0;32m      7\u001b[0m \u001b[1;32mfor\u001b[0m \u001b[0ml\u001b[0m \u001b[1;32min\u001b[0m \u001b[0mlines\u001b[0m\u001b[1;33m:\u001b[0m\u001b[1;33m\u001b[0m\u001b[0m\n\u001b[1;32m----> 8\u001b[1;33m     \u001b[0mprotein\u001b[0m\u001b[1;33m,\u001b[0m \u001b[0mmass\u001b[0m \u001b[1;33m=\u001b[0m \u001b[0ml\u001b[0m\u001b[1;33m.\u001b[0m\u001b[0mstrip\u001b[0m\u001b[1;33m(\u001b[0m\u001b[1;33m)\u001b[0m\u001b[1;33m.\u001b[0m\u001b[0msplit\u001b[0m\u001b[1;33m(\u001b[0m\u001b[1;34m' '\u001b[0m\u001b[1;33m)\u001b[0m\u001b[1;33m\u001b[0m\u001b[0m\n\u001b[0m\u001b[0;32m      9\u001b[0m     \u001b[0mprot_mass_dict\u001b[0m\u001b[1;33m[\u001b[0m\u001b[0mprotein\u001b[0m\u001b[1;33m]\u001b[0m \u001b[1;33m=\u001b[0m \u001b[0mint\u001b[0m\u001b[1;33m(\u001b[0m\u001b[0mmass\u001b[0m\u001b[1;33m)\u001b[0m\u001b[1;33m\u001b[0m\u001b[0m\n\u001b[0;32m     10\u001b[0m \u001b[1;33m\u001b[0m\u001b[0m\n",
      "\u001b[1;31mValueError\u001b[0m: need more than 1 value to unpack"
     ]
    }
   ],
   "source": [
    "#problem 41 - Cyclic Peptide Scoring Problem\n",
    "path = 'C:\\\\Users\\\\groza\\\\Downloads\\\\rosalind_ba4f.txt'\n",
    "\n",
    "prot_mass_dict = {'G': 57, 'A': 71, 'S': 87, 'P': 97, 'V': 99, 'T': 101, 'C': 103, 'I': 113, 'L': 113, 'N': 114, \n",
    "                'D': 115, 'K': 128, 'Q': 128, 'E': 129, 'M':131, 'H': 137, 'F': 147, 'R': 156, 'Y': 163, 'W': 186}\n",
    "\n",
    "\n",
    "def translate_rna(rna, rna_acid_dict):\n",
    "    i = 0\n",
    "    res = ''\n",
    "    while i < len(rna):\n",
    "        cur_acid = rna_acid_dict[rna[i:i+3]]\n",
    "        if cur_acid != 'Stop':\n",
    "            res += cur_acid\n",
    "        else:\n",
    "            return res\n",
    "        i += 3\n",
    "    return res\n",
    "\n",
    "def reverse_str(string):\n",
    "    res = ''\n",
    "    reverse = {'A' : 'T', 'T':'A', 'C':'G', 'G':'C'}\n",
    "    for char in string[::-1]:\n",
    "        res += reverse[char]\n",
    "    return res\n",
    "\n",
    "def cyclospectrum(peptide, prot_mass_dict):\n",
    "    masses = []\n",
    "    for i in range(len(peptide)):\n",
    "        if i == 0:\n",
    "            masses.append(0)\n",
    "        else:\n",
    "            for j in range(len(peptide)):\n",
    "                if j + i < len(peptide):\n",
    "                    #print peptide[j:j+i]\n",
    "                    masses.append(sum([prot_mass_dict[pr] for pr in peptide[j:j+i]]))\n",
    "                else:\n",
    "                    #print peptide[j:]+peptide[:i - (len(peptide)-j)]\n",
    "                    masses.append(sum([prot_mass_dict[pr] for pr in peptide[j:]+peptide[:i - (len(peptide)-j)] ]))\n",
    "    return masses + [sum([prot_mass_dict[pr] for pr in peptide])]\n",
    "\n",
    "def spectrum_score(peptide_spectrum, cur_spectrum):\n",
    "    score_coefs = {}\n",
    "    for mass in peptide_spectrum:\n",
    "        if mass in score_coefs.keys():\n",
    "            score_coefs[mass] += 1\n",
    "        else:\n",
    "            score_coefs[mass] = 1\n",
    "    score = 0\n",
    "    for mass in cur_spectrum:\n",
    "        if mass in score_coefs.keys():\n",
    "            if score_coefs[mass] > 0:\n",
    "                score += 1\n",
    "                score_coefs[mass] -= 1\n",
    "    return score\n",
    "\n",
    "with open(\"./input41.txt\", \"r\") as o:\n",
    "    lines = o.readlines()\n",
    "\n",
    "peptide = lines[0].strip()\n",
    "cur_spectrum = map(int, lines[1].strip().split(' '))\n",
    "\n",
    "peptide_spectrum = cyclospectrum(peptide, prot_mass_dict)\n",
    "print (spectrum_score(peptide_spectrum, cur_spectrum))\n"
   ]
  },
  {
   "cell_type": "code",
   "execution_count": null,
   "metadata": {
    "collapsed": true
   },
   "outputs": [],
   "source": []
  },
  {
   "cell_type": "code",
   "execution_count": null,
   "metadata": {
    "collapsed": true
   },
   "outputs": [],
   "source": []
  },
  {
   "cell_type": "code",
   "execution_count": null,
   "metadata": {
    "collapsed": true
   },
   "outputs": [],
   "source": []
  },
  {
   "cell_type": "code",
   "execution_count": 102,
   "metadata": {
    "collapsed": false
   },
   "outputs": [
    {
     "name": "stdout",
     "output_type": "stream",
     "text": [
      "0 57 57 57 57 57 71 87 87 99 99 99 99 103 113 113 113 113 113 113 114 114 115 115 128 128 128 128 128 128 129 129 131 137 144 147 147 147 147 156 163 170 170 170 171 185 186 186 188 199 200 200 200 202 204 212 227 227 228 234 234 236 242 242 242 243 243 245 246 246 256 256 256 257 257 260 262 272 275 276 283 284 284 285 285 285 291 293 299 299 301 313 318 328 333 333 333 340 343 347 347 348 349 356 356 357 358 359 370 371 375 385 385 385 388 390 392 397 398 400 403 405 412 413 414 415 421 422 429 432 432 436 441 446 446 446 447 448 455 456 461 470 472 475 476 480 484 494 498 498 500 503 504 512 516 518 520 526 527 527 528 528 531 537 545 549 549 555 557 559 560 561 561 563 567 569 575 578 583 584 585 585 593 594 603 604 613 617 622 624 631 631 632 640 640 643 644 648 656 661 668 672 674 676 680 681 684 686 689 690 691 696 696 697 697 698 702 703 706 707 721 725 730 731 731 737 746 748 750 754 754 759 760 761 764 771 781 785 788 794 794 795 797 799 804 805 809 811 817 819 824 824 827 831 834 844 845 847 849 851 853 861 868 874 876 877 884 885 888 889 896 898 901 906 907 908 916 925 932 933 937 941 942 944 946 948 952 952 955 958 960 960 964 964 973 981 981 987 988 992 995 1004 1004 1005 1012 1017 1024 1033 1043 1045 1053 1054 1059 1061 1061 1061 1061 1065 1069 1077 1079 1080 1081 1083 1087 1089 1094 1107 1108 1111 1116 1120 1124 1128 1130 1132 1132 1140 1142 1142 1144 1146 1148 1152 1174 1181 1182 1189 1190 1192 1192 1193 1197 1206 1207 1209 1209 1224 1227 1229 1234 1239 1239 1241 1241 1245 1245 1253 1260 1261 1261 1276 1280 1280 1291 1291 1293 1296 1303 1310 1317 1320 1321 1328 1328 1337 1337 1339 1340 1340 1344 1352 1353 1360 1366 1367 1374 1376 1378 1389 1389 1392 1392 1392 1404 1408 1409 1427 1427 1427 1433 1434 1438 1446 1453 1465 1466 1467 1467 1475 1475 1480 1484 1488 1490 1491 1491 1502 1507 1517 1522 1523 1525 1529 1530 1532 1533 1536 1537 1540 1540 1559 1574 1574 1578 1581 1589 1595 1595 1597 1603 1612 1616 1627 1628 1635 1636 1638 1638 1646 1646 1650 1660 1661 1665 1673 1677 1677 1683 1684 1685 1687 1693 1702 1709 1718 1723 1725 1745 1751 1759 1759 1763 1766 1773 1774 1775 1776 1778 1784 1785 1786 1792 1796 1808 1812 1812 1813 1814 1821 1831 1837 1858 1865 1872 1873 1879 1883 1888 1888 1889 1892 1894 1907 1912 1913 1920 1922 1925 1925 1929 1930 1941 1945 1949 1959 1964 1970 1976 1987 1993 2005 2012 2016 2020 2021 2030 2033 2035 2038 2040 2041 2048 2050 2057 2058 2058 2077 2078 2085 2088 2092 2098 2107 2115 2125 2129 2130 2134 2134 2159 2161 2164 2164 2173 2177 2185 2187 2187 2191 2191 2197 2201 2205 2213 2213 2221 2221 2226 2229 2232 2247 2258 2272 2278 2286 2288 2290 2292 2300 2301 2304 2304 2314 2320 2334 2334 2341 2341 2341 2349 2361 2363 2371 2373 2387 2391 2391 2406 2415 2417 2419 2420 2427 2433 2435 2448 2448 2469 2469 2470 2472 2474 2477 2486 2488 2492 2504 2519 2532 2534 2534 2547 2549 2561 2562 2573 2576 2583 2590 2597 2598 2601 2605 2606 2616 2619 2619 2619 2633 2637 2647 2660 2661 2662 2676 2688 2689 2711 2718 2719 2719 2720 2726 2729 2736 2744 2747 2760 2766 2768 2774 2776 2804 2804 2816 2819 2825 2831 2832 2835 2839 2857 2861 2865 2867 2873 2875 2882 2889 2889 2918 2918 2922 2924 2932 2934 2944 2963 2975 2978 2981 2986 2986 2995 3002 3003 3004 3037 3046 3052 3053 3062 3065 3073 3091 3094 3099 3103 3110 3117 3117 3122 3132 3151 3165 3165 3167 3168 3174 3186 3190 3220 3225 3245 3246 3250 3264 3280 3280 3282 3293 3296 3303 3319 3321 3333 3337 3353 3359 3379 3395 3408 3410 3416 3422 3424 3432 3450 3450 3452 3481 3507 3522 3523 3535 3538 3553 3563 3565 3565 3579 3580 3610 3621 3651 3666 3667 3678 3680 3693 3693 3708 3723 3726 3780 3780 3807 3808 3808 3821 3825 3837 3864 3893 3922 3936 3936 3950 3950 3979 4011 4050 4063 4064 4065 4107 4126 4178 4178 4193 4235 4254 4306 4307 4364 4382 4420 4477 4511 4624\n"
     ]
    }
   ],
   "source": [
    "#problem 45\n",
    "\n",
    "def linear_spectrum(peptide, prot_mass_dict):\n",
    "    substrings = []\n",
    "    for i in range(len(peptide)+1):\n",
    "        if i != 0:\n",
    "            for j in range(len(peptide)-i+1):\n",
    "                substrings.append(peptide[j:j+i])\n",
    "    substrings = substrings\n",
    "    return [sum([prot_mass_dict[pr] for pr in substr]) for substr in substrings] + [0]\n",
    "\n",
    "with open(\"./input45-1.txt\", \"r\") as o:\n",
    "    lines = o.readlines()\n",
    "\n",
    "peptide = lines[0].strip()\n",
    "\n",
    "#peptide = 'MPYENCCCWMFNIRKGQPDFFRKGAVPYVVPMNCIRWS'\n",
    "\n",
    "print ' '.join(map(str,sorted(linear_spectrum(peptide, prot_mass_dict))))"
   ]
  },
  {
   "cell_type": "code",
   "execution_count": 97,
   "metadata": {
    "collapsed": false
   },
   "outputs": [
    {
     "data": {
      "text/plain": [
       "[0, 113, 114, 128, 129, 242, 242, 257, 370, 371, 484]"
      ]
     },
     "execution_count": 97,
     "metadata": {},
     "output_type": "execute_result"
    }
   ],
   "source": [
    "\n",
    "\n",
    "peptide = 'NQEL'\n",
    "sorted(linear_spectrum(peptide, prot_mass_dict))"
   ]
  },
  {
   "cell_type": "code",
   "execution_count": 1,
   "metadata": {
    "collapsed": false
   },
   "outputs": [
    {
     "ename": "NameError",
     "evalue": "name 'prot_mass_dict' is not defined",
     "output_type": "error",
     "traceback": [
      "\u001b[1;31m---------------------------------------------------------------------------\u001b[0m",
      "\u001b[1;31mNameError\u001b[0m                                 Traceback (most recent call last)",
      "\u001b[1;32m<ipython-input-1-39d8e80bdd61>\u001b[0m in \u001b[0;36m<module>\u001b[1;34m()\u001b[0m\n\u001b[0;32m     33\u001b[0m \u001b[0mcur_spectrum\u001b[0m \u001b[1;33m=\u001b[0m \u001b[0mmap\u001b[0m\u001b[1;33m(\u001b[0m\u001b[0mint\u001b[0m\u001b[1;33m,\u001b[0m \u001b[0mlines\u001b[0m\u001b[1;33m[\u001b[0m\u001b[1;36m1\u001b[0m\u001b[1;33m]\u001b[0m\u001b[1;33m.\u001b[0m\u001b[0mstrip\u001b[0m\u001b[1;33m(\u001b[0m\u001b[1;33m)\u001b[0m\u001b[1;33m.\u001b[0m\u001b[0msplit\u001b[0m\u001b[1;33m(\u001b[0m\u001b[1;34m' '\u001b[0m\u001b[1;33m)\u001b[0m\u001b[1;33m)\u001b[0m\u001b[1;33m\u001b[0m\u001b[0m\n\u001b[0;32m     34\u001b[0m \u001b[1;33m\u001b[0m\u001b[0m\n\u001b[1;32m---> 35\u001b[1;33m \u001b[0mpeptide_spectrum\u001b[0m \u001b[1;33m=\u001b[0m \u001b[0mlinear_spectrum\u001b[0m\u001b[1;33m(\u001b[0m\u001b[0mpeptide\u001b[0m\u001b[1;33m,\u001b[0m \u001b[0mprot_mass_dict\u001b[0m\u001b[1;33m)\u001b[0m\u001b[1;33m\u001b[0m\u001b[0m\n\u001b[0m\u001b[0;32m     36\u001b[0m \u001b[0mprint\u001b[0m \u001b[1;33m(\u001b[0m\u001b[0mspectrum_score\u001b[0m\u001b[1;33m(\u001b[0m\u001b[0mpeptide_spectrum\u001b[0m\u001b[1;33m,\u001b[0m \u001b[0mcur_spectrum\u001b[0m\u001b[1;33m)\u001b[0m\u001b[1;33m)\u001b[0m\u001b[1;33m\u001b[0m\u001b[0m\n",
      "\u001b[1;31mNameError\u001b[0m: name 'prot_mass_dict' is not defined"
     ]
    }
   ],
   "source": [
    "#problem 46 - linear peptide scoring\n",
    "\n",
    "def linear_spectrum(peptide, prot_mass_dict):\n",
    "    substrings = []\n",
    "    for i in range(len(peptide)+1):\n",
    "        if i != 0:\n",
    "            for j in range(len(peptide)-i+1):\n",
    "                substrings.append(peptide[j:j+i])\n",
    "    substrings = substrings\n",
    "    return [sum([prot_mass_dict[pr] for pr in substr]) for substr in substrings] + [0]\n",
    "\n",
    "def spectrum_score(peptide_spectrum, cur_spectrum):\n",
    "    score_coefs = {}\n",
    "    for mass in peptide_spectrum:\n",
    "        if mass in score_coefs.keys():\n",
    "            score_coefs[mass] += 1\n",
    "        else:\n",
    "            score_coefs[mass] = 1\n",
    "    score = 0\n",
    "    for mass in cur_spectrum:\n",
    "        if mass in score_coefs.keys():\n",
    "            if score_coefs[mass] > 0:\n",
    "                score += 1\n",
    "                score_coefs[mass] -= 1\n",
    "    return score\n",
    "\n",
    "path = 'C:\\\\Users\\\\groza\\\\Downloads\\\\rosalind_ba4f.txt'\n",
    "\n",
    "with open(path, \"r\") as o:\n",
    "    lines = o.readlines()\n",
    "\n",
    "peptide = lines[0].strip()\n",
    "cur_spectrum = map(int, lines[1].strip().split(' '))\n",
    "\n",
    "peptide_spectrum = linear_spectrum(peptide, prot_mass_dict)\n",
    "print (spectrum_score(peptide_spectrum, cur_spectrum))"
   ]
  },
  {
   "cell_type": "code",
   "execution_count": null,
   "metadata": {
    "collapsed": true
   },
   "outputs": [],
   "source": []
  }
 ],
 "metadata": {
  "kernelspec": {
   "display_name": "Python 3",
   "language": "python",
   "name": "python3"
  },
  "language_info": {
   "codemirror_mode": {
    "name": "ipython",
    "version": 3
   },
   "file_extension": ".py",
   "mimetype": "text/x-python",
   "name": "python",
   "nbconvert_exporter": "python",
   "pygments_lexer": "ipython3",
   "version": "3.4.3"
  }
 },
 "nbformat": 4,
 "nbformat_minor": 0
}
