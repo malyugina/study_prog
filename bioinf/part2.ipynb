{
 "cells": [
  {
   "cell_type": "code",
   "execution_count": 2,
   "metadata": {
    "collapsed": true
   },
   "outputs": [],
   "source": [
    "Dna = [\"GGCGTTCAGGCA\",\n",
    "\"AAGAATCAGTCA\",\n",
    "\"CAAGGAGTTCGC\",\n",
    "\"CACGTCAATCAC\",\n",
    "\"CAATAATATTCG\"]\n",
    "\n",
    "#text_ = \"ATGTCAGAAGCCGCGCCGCCTGAGCGTCTTCCGCATAATGTTAGTCCCGTCC\"\n",
    "k = 3\n",
    "d = 0\n",
    "dict_to_int = {\"A\": 0, \"C\": 1, \"G\": 2, \"T\": 3}\n",
    "dict_to_string = {0:\"A\", 1:\"C\", 2:\"G\", 3:\"T\"}"
   ]
  },
  {
   "cell_type": "code",
   "execution_count": 7,
   "metadata": {
    "collapsed": false
   },
   "outputs": [
    {
     "data": {
      "text/plain": [
       "'GC'"
      ]
     },
     "execution_count": 7,
     "metadata": {},
     "output_type": "execute_result"
    }
   ],
   "source": [
    "Dna[0][1:3]"
   ]
  },
  {
   "cell_type": "code",
   "execution_count": 12,
   "metadata": {
    "collapsed": false
   },
   "outputs": [
    {
     "name": "stdout",
     "output_type": "stream",
     "text": [
      "['GGC', 'GTC', 'GGA', 'GTC', 'TTC'] 5\n",
      "['GCG', 'AAG', 'GAG', 'ACG', 'TCG'] 5\n",
      "['CGT', 'AGT', 'AGT', 'CGT', 'CAA'] 4\n",
      "['GTT', 'GTC', 'GTT', 'GTC', 'ATT'] 3\n",
      "['TTC', 'ATC', 'TTC', 'GTC', 'TTC'] 2\n",
      "['TCA', 'TCA', 'TCG', 'TCA', 'TAA'] 2\n",
      "['CAG', 'CAG', 'CAA', 'CAC', 'CAA'] 3\n",
      "['AGG', 'AAG', 'AGG', 'ACG', 'AAT'] 4\n",
      "['GGC', 'GTC', 'GGA', 'GTC', 'TTC'] 5\n",
      "['GCA', 'GAA', 'GGA', 'TCA', 'CAA'] 5\n",
      "['TTC', 'ATC', 'TTC', 'GTC', 'TTC']\n"
     ]
    }
   ],
   "source": [
    "score = len(Dna)*len(Dna[0])\n",
    "best_motif = []\n",
    "for i in range(len(Dna[0]) - k + 1):\n",
    "    score_i = 0\n",
    "    pattern = []\n",
    "    pattern.append(Dna[0][i:i+k])\n",
    "    for Dna_i in Dna[1:]:\n",
    "        closed_k_mer, distance = find_close_k_mer(Dna_i, pattern[0])\n",
    "        score_i = score_i + distance\n",
    "        pattern.append(closed_k_mer)\n",
    "    print (pattern, score_i)\n",
    "    if score_i < score:\n",
    "        score = score_i\n",
    "        best_motif = pattern\n",
    "print (best_motif)"
   ]
  },
  {
   "cell_type": "code",
   "execution_count": 10,
   "metadata": {
    "collapsed": true
   },
   "outputs": [],
   "source": [
    "def find_close_k_mer(text_, pattern):\n",
    "    closed_k_mer = text_[:len(pattern)]\n",
    "    distance = compute_distance(pattern, closed_k_mer)\n",
    "    matrix = np.zeros((4, k))\n",
    "    \n",
    "    for i in range(1, len(text_) - len(pattern) + 1):\n",
    "        if compute_distance(pattern, text_[i:i+len(pattern)]) < distance:\n",
    "            closed_k_mer = text_[i:i+len(pattern)]\n",
    "            distance = compute_distance(pattern, text_[i:i+len(pattern)])\n",
    "    return (closed_k_mer, distance)"
   ]
  },
  {
   "cell_type": "code",
   "execution_count": 13,
   "metadata": {
    "collapsed": false
   },
   "outputs": [
    {
     "ename": "NameError",
     "evalue": "name 'np' is not defined",
     "output_type": "error",
     "traceback": [
      "\u001b[1;31m---------------------------------------------------------------------------\u001b[0m",
      "\u001b[1;31mNameError\u001b[0m                                 Traceback (most recent call last)",
      "\u001b[1;32m<ipython-input-13-8496d353e320>\u001b[0m in \u001b[0;36m<module>\u001b[1;34m()\u001b[0m\n\u001b[0;32m      1\u001b[0m \u001b[1;31m#def get_pattern_to_matrix(matrix, pattern):\u001b[0m\u001b[1;33m\u001b[0m\u001b[1;33m\u001b[0m\u001b[0m\n\u001b[1;32m----> 2\u001b[1;33m \u001b[0mmatrix\u001b[0m \u001b[1;33m=\u001b[0m \u001b[0mnp\u001b[0m\u001b[1;33m.\u001b[0m\u001b[0mzeros\u001b[0m\u001b[1;33m(\u001b[0m\u001b[1;33m(\u001b[0m\u001b[1;36m4\u001b[0m\u001b[1;33m,\u001b[0m \u001b[0mk\u001b[0m\u001b[1;33m)\u001b[0m\u001b[1;33m)\u001b[0m\u001b[1;33m\u001b[0m\u001b[0m\n\u001b[0m\u001b[0;32m      3\u001b[0m \u001b[1;33m\u001b[0m\u001b[0m\n\u001b[0;32m      4\u001b[0m \u001b[1;32mfor\u001b[0m \u001b[0mj\u001b[0m\u001b[1;33m,\u001b[0m \u001b[0my\u001b[0m \u001b[1;32min\u001b[0m \u001b[0menumerate\u001b[0m\u001b[1;33m(\u001b[0m\u001b[0mpattern\u001b[0m\u001b[1;33m)\u001b[0m\u001b[1;33m:\u001b[0m\u001b[1;33m\u001b[0m\u001b[0m\n\u001b[0;32m      5\u001b[0m     \u001b[0mprint\u001b[0m \u001b[1;33m(\u001b[0m\u001b[0mmatrix\u001b[0m\u001b[1;33m[\u001b[0m\u001b[0mdict_\u001b[0m\u001b[1;33m[\u001b[0m\u001b[0my\u001b[0m\u001b[1;33m]\u001b[0m\u001b[1;33m]\u001b[0m\u001b[1;33m[\u001b[0m\u001b[0mj\u001b[0m\u001b[1;33m]\u001b[0m\u001b[1;33m)\u001b[0m\u001b[1;33m\u001b[0m\u001b[0m\n",
      "\u001b[1;31mNameError\u001b[0m: name 'np' is not defined"
     ]
    }
   ],
   "source": [
    "#def get_pattern_to_matrix(matrix, pattern):\n",
    "matrix = np.zeros((4, k))\n",
    "\n",
    "for j, y in enumerate(pattern):\n",
    "    print (matrix[dict_[y]][j])"
   ]
  },
  {
   "cell_type": "code",
   "execution_count": 73,
   "metadata": {
    "collapsed": false,
    "scrolled": true
   },
   "outputs": [],
   "source": [
    "def find_most_prob(text_, k, matrix):\n",
    "    max_pattern = 0\n",
    "    for i in range(0, len(text_) - k + 1, 1):\n",
    "        pattern = text_[i:i+k]\n",
    "        prob_pattern = 1.0\n",
    "        for j, y in enumerate(pattern):\n",
    "            prob_pattern = prob_pattern * matrix[dict_[y]][j]\n",
    "        if prob_pattern > max_pattern:\n",
    "            max_pattern = prob_pattern\n",
    "    return prob_pattern"
   ]
  },
  {
   "cell_type": "code",
   "execution_count": 50,
   "metadata": {
    "collapsed": false
   },
   "outputs": [],
   "source": [
    "def problem16(Dna, k):\n",
    "    pattern = {}\n",
    "    for i in range(4**k):\n",
    "        pattern_i = numder_to_DNA(i, k)\n",
    "        count = 0\n",
    "        for string in Dna:\n",
    "            count = count + find_min_distance(string, pattern_i)\n",
    "        pattern[pattern_i] = count\n",
    "\n",
    "    min_ = len(Dna[0])\n",
    "    for i in pattern:\n",
    "        if pattern[i] < min_:\n",
    "            min_ = pattern[i]\n",
    "\n",
    "    result = []\n",
    "    for i in pattern:\n",
    "        if pattern[i] == min_:\n",
    "            resulte.append(i)\n",
    "            \n",
    "    return resulte"
   ]
  },
  {
   "cell_type": "code",
   "execution_count": 9,
   "metadata": {
    "collapsed": true
   },
   "outputs": [],
   "source": [
    "def find_min_distance(text_, pattern):\n",
    "    distance = len(pattern)\n",
    "    for i in range(0, len(text_) - len(pattern) + 1, 1):\n",
    "        if compute_distance(text_[i:i+len(pattern)], pattern) < distance:\n",
    "            distance = compute_distance(text_[i:i+len(pattern)], pattern)\n",
    "    return distance"
   ]
  },
  {
   "cell_type": "code",
   "execution_count": 82,
   "metadata": {
    "collapsed": false
   },
   "outputs": [],
   "source": [
    "def find_k_d_motif(Dna, k, d):\n",
    "    count = 0\n",
    "    resulte = []\n",
    "    for i in range(4**k):\n",
    "        count = 0\n",
    "        pattern_i = numder_to_DNA(i, k)\n",
    "        for string in Dna:\n",
    "            for j in range(0, len(string) - k + 1, 1):\n",
    "                if compute_distance(pattern_i, string[j:j+k]) <= d:\n",
    "                    count = count + 1\n",
    "                    break\n",
    "        if count == len(Dna):\n",
    "            resulte.append(pattern_i)\n",
    "    \n",
    "    return resulte"
   ]
  },
  {
   "cell_type": "code",
   "execution_count": 8,
   "metadata": {
    "collapsed": true
   },
   "outputs": [],
   "source": [
    "def compute_distance(text_1, text_2):\n",
    "    count = 0\n",
    "    for i, s in enumerate(text_1):\n",
    "        if s != text_2[i]:\n",
    "            count = count + 1\n",
    "    return count"
   ]
  },
  {
   "cell_type": "code",
   "execution_count": 79,
   "metadata": {
    "collapsed": true
   },
   "outputs": [],
   "source": [
    "def find_frequency(text_, pattern):\n",
    "    len_pattern = len(pattern)\n",
    "    count = 0\n",
    "    for i in range(0, len(text_) - len_pattern + 1, 1):\n",
    "        if text_[i:i+len_pattern] == pattern:\n",
    "            count = count + 1\n",
    "    return count"
   ]
  },
  {
   "cell_type": "code",
   "execution_count": 80,
   "metadata": {
    "collapsed": true
   },
   "outputs": [],
   "source": [
    "def numder_to_DNA(number, k):\n",
    "    bin_ = bin(number)[2:]\n",
    "    if len(bin_)%2 == 1:\n",
    "        bin_ = '0'+bin_\n",
    "\n",
    "    dict_ = {\"00\":\"A\", \"01\":\"C\", \"10\":\"G\", \"11\":\"T\"}\n",
    "    text_ = []\n",
    "    for i in range(int(len(bin_)/2), k, 1):\n",
    "        text_.append(\"A\")\n",
    "    for i in range(0, len(bin_)-1, 2):\n",
    "        text_.append(dict_[bin_[i:i+2]])\n",
    "    \n",
    "    return ''.join(text_)"
   ]
  }
 ],
 "metadata": {
  "kernelspec": {
   "display_name": "Python 3",
   "language": "python",
   "name": "python3"
  },
  "language_info": {
   "codemirror_mode": {
    "name": "ipython",
    "version": 3
   },
   "file_extension": ".py",
   "mimetype": "text/x-python",
   "name": "python",
   "nbconvert_exporter": "python",
   "pygments_lexer": "ipython3",
   "version": "3.4.3"
  }
 },
 "nbformat": 4,
 "nbformat_minor": 0
}
