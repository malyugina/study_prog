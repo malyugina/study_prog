{
 "cells": [
  {
   "cell_type": "code",
   "execution_count": 4,
   "metadata": {
    "collapsed": true
   },
   "outputs": [],
   "source": [
    "RNA2PEPTIDE = {\n",
    "    'UUU': 'F',     'CUU': 'L',     'AUU': 'I',     'GUU': 'V',\n",
    "    'UUC': 'F',     'CUC': 'L',     'AUC': 'I',     'GUC': 'V',\n",
    "    'UUA': 'L',     'CUA': 'L',     'AUA': 'I',     'GUA': 'V',\n",
    "    'UUG': 'L',     'CUG': 'L',     'AUG': 'M',     'GUG': 'V',\n",
    "    'UCU': 'S',     'CCU': 'P',     'ACU': 'T',     'GCU': 'A',\n",
    "    'UCC': 'S',     'CCC': 'P',     'ACC': 'T',     'GCC': 'A',\n",
    "    'UCA': 'S',     'CCA': 'P',     'ACA': 'T',     'GCA': 'A',\n",
    "    'UCG': 'S',     'CCG': 'P',     'ACG': 'T',     'GCG': 'A',\n",
    "    'UAU': 'Y',     'CAU': 'H',     'AAU': 'N',     'GAU': 'D',\n",
    "    'UAC': 'Y',     'CAC': 'H',     'AAC': 'N',     'GAC': 'D',\n",
    "    'UAA': 'Stop',  'CAA': 'Q',     'AAA': 'K',     'GAA': 'E',\n",
    "    'UAG': 'Stop',  'CAG': 'Q',     'AAG': 'K',     'GAG': 'E',\n",
    "    'UGU': 'C',     'CGU': 'R',     'AGU': 'S',     'GGU': 'G',\n",
    "    'UGC': 'C',     'CGC': 'R',     'AGC': 'S',     'GGC': 'G',\n",
    "    'UGA': 'Stop',  'CGA': 'R',     'AGA': 'R',     'GGA': 'G',\n",
    "    'UGG': 'W',     'CGG': 'R',     'AGG': 'R',     'GGG': 'G'\n",
    "}\n",
    "\n",
    "DNA2PEPTIDE = {\n",
    "    'TTT': 'F',      'CTT': 'L',      'ATT': 'I',      'GTT': 'V',\n",
    "    'TTC': 'F',      'CTC': 'L',      'ATC': 'I',      'GTC': 'V',\n",
    "    'TTA': 'L',      'CTA': 'L',      'ATA': 'I',      'GTA': 'V',\n",
    "    'TTG': 'L',      'CTG': 'L',      'ATG': 'M',      'GTG': 'V',\n",
    "    'TCT': 'S',      'CCT': 'P',      'ACT': 'T',      'GCT': 'A',\n",
    "    'TCC': 'S',      'CCC': 'P',      'ACC': 'T',      'GCC': 'A',\n",
    "    'TCA': 'S',      'CCA': 'P',      'ACA': 'T',      'GCA': 'A',\n",
    "    'TCG': 'S',      'CCG': 'P',      'ACG': 'T',      'GCG': 'A',\n",
    "    'TAT': 'Y',      'CAT': 'H',      'AAT': 'N',      'GAT': 'D',\n",
    "    'TAC': 'Y',      'CAC': 'H',      'AAC': 'N',      'GAC': 'D',\n",
    "    'TAA': 'Stop',   'CAA': 'Q',      'AAA': 'K',      'GAA': 'E',\n",
    "    'TAG': 'Stop',   'CAG': 'Q',      'AAG': 'K',      'GAG': 'E',\n",
    "    'TGT': 'C',      'CGT': 'R',      'AGT': 'S',      'GGT': 'G',\n",
    "    'TGC': 'C',      'CGC': 'R',      'AGC': 'S',      'GGC': 'G',\n",
    "    'TGA': 'Stop',   'CGA': 'R',      'AGA': 'R',      'GGA': 'G',\n",
    "    'TGG': 'W',      'CGG': 'R',      'AGG': 'R',      'GGG': 'G' \n",
    "}\n",
    "\n",
    "invers_dna = {'A': 'T', 'T': 'A', 'C': 'G', 'G': 'C'}\n",
    "\n",
    "mass_peptide = {'G': 57, 'A': 71, 'S': 87, 'P': 97, 'V': 99, 'T': 101, 'C': 103, 'I': 113, 'L': 113, 'N': 114, \n",
    "                'D': 115, 'K': 128, 'Q': 128, 'E': 129, 'M':131, 'H': 137, 'F': 147, 'R': 156, 'Y': 163, 'W': 186}"
   ]
  },
  {
   "cell_type": "code",
   "execution_count": 107,
   "metadata": {
    "collapsed": true
   },
   "outputs": [],
   "source": [
    "path = 'C:\\\\Users\\\\groza\\\\Downloads\\\\rosalind_ba4l.txt'\n",
    "from collections import Counter\n",
    "\n",
    "def read_file(filename):\n",
    "    peptides, mass, n = [line.rstrip() for line in open(filename)]\n",
    "    cur_spectrum = sorted(map(int, mass.split(' ')))\n",
    "    peptides = peptides.split(' ')\n",
    "    return peptides, cur_spectrum, n\n",
    "\n",
    "peptides, cur_spectrum, n = read_file(path)"
   ]
  },
  {
   "cell_type": "code",
   "execution_count": 108,
   "metadata": {
    "collapsed": false
   },
   "outputs": [],
   "source": [
    "a = {}\n",
    "for peptide in peptides:\n",
    "    peptide_spectrum = linear_spectrum(peptide)\n",
    "    score = spectrum_score(peptide_spectrum, cur_spectrum)\n",
    "    a[peptide] = score"
   ]
  },
  {
   "cell_type": "code",
   "execution_count": 111,
   "metadata": {
    "collapsed": false
   },
   "outputs": [
    {
     "ename": "TypeError",
     "evalue": "bad operand type for unary -: 'str'",
     "output_type": "error",
     "traceback": [
      "\u001b[1;31m---------------------------------------------------------------------------\u001b[0m",
      "\u001b[1;31mTypeError\u001b[0m                                 Traceback (most recent call last)",
      "\u001b[1;32m<ipython-input-111-49a9087987bd>\u001b[0m in \u001b[0;36m<module>\u001b[1;34m()\u001b[0m\n\u001b[0;32m      1\u001b[0m \u001b[1;32mimport\u001b[0m \u001b[0moperator\u001b[0m\u001b[1;33m\u001b[0m\u001b[0m\n\u001b[0;32m      2\u001b[0m \u001b[0msorted_x\u001b[0m \u001b[1;33m=\u001b[0m \u001b[0msorted\u001b[0m\u001b[1;33m(\u001b[0m\u001b[0ma\u001b[0m\u001b[1;33m.\u001b[0m\u001b[0mitems\u001b[0m\u001b[1;33m(\u001b[0m\u001b[1;33m)\u001b[0m\u001b[1;33m,\u001b[0m \u001b[0mkey\u001b[0m\u001b[1;33m=\u001b[0m\u001b[0moperator\u001b[0m\u001b[1;33m.\u001b[0m\u001b[0mitemgetter\u001b[0m\u001b[1;33m(\u001b[0m\u001b[1;36m1\u001b[0m\u001b[1;33m)\u001b[0m\u001b[1;33m)\u001b[0m\u001b[1;33m\u001b[0m\u001b[0m\n\u001b[1;32m----> 3\u001b[1;33m \u001b[1;32mfor\u001b[0m \u001b[0mi\u001b[0m \u001b[1;32min\u001b[0m \u001b[0msorted_x\u001b[0m\u001b[1;33m[\u001b[0m\u001b[1;33m-\u001b[0m\u001b[0mn\u001b[0m\u001b[1;33m:\u001b[0m\u001b[1;33m]\u001b[0m\u001b[1;33m[\u001b[0m\u001b[1;33m:\u001b[0m\u001b[1;33m:\u001b[0m\u001b[1;33m-\u001b[0m\u001b[1;36m1\u001b[0m\u001b[1;33m]\u001b[0m\u001b[1;33m:\u001b[0m\u001b[1;33m\u001b[0m\u001b[0m\n\u001b[0m\u001b[0;32m      4\u001b[0m     \u001b[0mprint\u001b[0m \u001b[1;33m(\u001b[0m\u001b[0mi\u001b[0m\u001b[1;33m[\u001b[0m\u001b[1;36m0\u001b[0m\u001b[1;33m]\u001b[0m\u001b[1;33m)\u001b[0m\u001b[1;33m\u001b[0m\u001b[0m\n",
      "\u001b[1;31mTypeError\u001b[0m: bad operand type for unary -: 'str'"
     ]
    }
   ],
   "source": [
    "import operator\n",
    "sorted_x = sorted(a.items(), key=operator.itemgetter(1))\n",
    "for i in sorted_x[-n:][::-1]:\n",
    "    print (i[0])"
   ]
  },
  {
   "cell_type": "code",
   "execution_count": 114,
   "metadata": {
    "collapsed": false
   },
   "outputs": [
    {
     "data": {
      "text/plain": [
       "[('CPVTGTSWLYAPNMMNALPKPPNMALFSGIYAMCVISNRLENVRLLYHGI', 246),\n",
       " ('LIHEGLMQKCDIFMECQDKLVFMRKGDYALNQTEYWCEKPSEDFTVIHME', 255),\n",
       " ('DIGRCGKEHNLSDEVRRPEWEHQAGTWFAHAWDVKRMCAGQNEQTNKSPP', 258),\n",
       " ('IFTFWKLHEPQQGNRWCMACNHWLACDGNEFTTGCASGRGQCWNRGEKQN', 262),\n",
       " ('CGGWEEYNMTLHQMFVHIITKRFVYIRHQKWVYGMCILMNQVVHDHDDID', 266),\n",
       " ('YRSRLLQGPYFTHKALHHTFKVFGVPGPRTTAMHDTYLILQYEKDDRFKF', 272),\n",
       " ('LFWCETWQKDSPLESGKPPVGTFYIEVYGVEIVHQRPEVSLGSDARKNSA', 276),\n",
       " ('KIDVQNCSCYGHPCRQTETCLAKLGAQRMDAWWFDKNQKWPVLFPFSTHS', 277),\n",
       " ('YYDQLIQKDSFSCACMRQSSNYHYCQTGKFEQMWSFAPMAWYWDVSDNIN', 279),\n",
       " ('PHYDHTNTSLYPEPAAFTQHGKTHAYHYRPEVSSRLRCLTDSFEEYCGVV', 279),\n",
       " ('SPCTVEAGSTGEPSADIDDSWLRFVCSPLELQNSNFTHHFPDDMHYMTWY', 284),\n",
       " ('PPCPSKAIKATESWITDFEEEQQNYVYVQMSCQVPKHRAKNQANIFFNIT', 291),\n",
       " ('VMFPCMQSAPNHEHATLTGKCNSYAWQAMNHFHYRIGKAVQPSMHMFWLE', 291),\n",
       " ('FTATKNLSVYYGPCLKKMQVYQQWFIHGPTDHPAIPCNKWPSCAIIVEMA', 307),\n",
       " ('LEITEHPYFQQDDHMRENPSVENGSSNATNYHRPHLQRFFLGMQAKPWCC', 316)]"
      ]
     },
     "execution_count": 114,
     "metadata": {},
     "output_type": "execute_result"
    }
   ],
   "source": [
    "sorted_x"
   ]
  },
  {
   "cell_type": "code",
   "execution_count": 76,
   "metadata": {
    "collapsed": false
   },
   "outputs": [],
   "source": [
    "path = 'C:\\\\Users\\\\groza\\\\Downloads\\\\rosalind_ba4h (2).txt'\n",
    "from collections import Counter\n",
    "\n",
    "def read_file(filename):\n",
    "    mass_str = [line.rstrip() for line in open(filename)][0]\n",
    "    mass = list(map(int, mass_str.split(' ')))\n",
    "    return mass\n",
    "\n",
    "cur_spectrum = sorted(read_file(path))\n",
    "\n",
    "mass = []\n",
    "for i, mass_i in enumerate(cur_spectrum):\n",
    "    for mass_j in cur_spectrum[i+1:]:\n",
    "        if mass_j != mass_i:\n",
    "            mass.append(mass_j - mass_i)\n",
    "        \n",
    "def write_answer(answ):    \n",
    "    fld = open(\"output.txt\", \"w\")\n",
    "    for i in answ:\n",
    "        fld.write(' '.join([str(i[0])]*i[1]))\n",
    "        fld.write(' ')\n",
    "    fld.close()\n",
    "       \n",
    "write_answer(Counter(mass).most_common())"
   ]
  },
  {
   "cell_type": "code",
   "execution_count": 30,
   "metadata": {
    "collapsed": false
   },
   "outputs": [
    {
     "name": "stdout",
     "output_type": "stream",
     "text": [
      "456\n"
     ]
    }
   ],
   "source": [
    "path = 'C:\\\\Users\\\\groza\\\\Downloads\\\\rosalind_ba4k.txt'\n",
    "\n",
    "def read_file(filename):\n",
    "    protein, mass_str = [line.rstrip() for line in open(filename)]\n",
    "    mass = list(map(int, mass_str.split(' ')))\n",
    "    return protein, mass\n",
    "\n",
    "def linear_spectrum(peptide):\n",
    "    substrings = []\n",
    "    for i in range(len(peptide)+1):\n",
    "        if i != 0:\n",
    "            for j in range(len(peptide)-i+1):\n",
    "                substrings.append(peptide[j:j+i])\n",
    "    substrings = substrings\n",
    "    return [sum([mass_peptide[pr] for pr in substr]) for substr in substrings] + [0]\n",
    "\n",
    "def spectrum_score(peptide_spectrum, cur_spectrum):\n",
    "    score_coefs = {}\n",
    "    for mass in peptide_spectrum:\n",
    "        if mass in score_coefs.keys():\n",
    "            score_coefs[mass] += 1\n",
    "        else:\n",
    "            score_coefs[mass] = 1\n",
    "    score = 0\n",
    "    for mass in cur_spectrum:\n",
    "        if mass in score_coefs.keys():\n",
    "            if score_coefs[mass] > 0:\n",
    "                score += 1\n",
    "                score_coefs[mass] -= 1\n",
    "    return score\n",
    "\n",
    "peptide, cur_spectrum = read_file(path)\n",
    "peptide_spectrum = linear_spectrum(peptide)\n",
    "print (spectrum_score(peptide_spectrum, cur_spectrum))"
   ]
  },
  {
   "cell_type": "code",
   "execution_count": 28,
   "metadata": {
    "collapsed": false
   },
   "outputs": [],
   "source": [
    "path = 'C:\\\\Users\\\\groza\\\\Downloads\\\\rosalind_ba4j (1).txt'\n",
    "# path = 'input.txt'\n",
    "\n",
    "def read_file(filename):\n",
    "    peptide = [line.rstrip() for line in open(filename)][0]\n",
    "    return peptide\n",
    "\n",
    "def linear_spectrum(peptide, prot_mass_dict):\n",
    "    substrings = []\n",
    "    for i in range(len(peptide)+1):\n",
    "        if i != 0:\n",
    "            for j in range(len(peptide)-i+1):\n",
    "                substrings.append(peptide[j:j+i])\n",
    "    substrings = substrings\n",
    "    return [sum([mass_peptide[pr] for pr in substr]) for substr in substrings] + [0]\n",
    "\n",
    "def write_answer(answ):    \n",
    "    fld = open(\"output.txt\", \"w\")\n",
    "    for i in answ:\n",
    "        fld.write(str(i))\n",
    "        fld.write(' ')\n",
    "    fld.close()\n",
    "    \n",
    "peptide = read_file(path)\n",
    "write_answer(sorted(linear_spectrum(peptide, mass_peptide)))\n",
    "\n"
   ]
  },
  {
   "cell_type": "code",
   "execution_count": 23,
   "metadata": {
    "collapsed": false
   },
   "outputs": [
    {
     "name": "stdout",
     "output_type": "stream",
     "text": [
      "8\n"
     ]
    }
   ],
   "source": [
    "path = 'C:\\\\Users\\\\groza\\\\Downloads\\\\rosalind_ba4f.txt'\n",
    "# path = 'input.txt'\n",
    "\n",
    "def read_file(filename):\n",
    "    protein, mass_str = [line.rstrip() for line in open(filename)]\n",
    "    mass = list(map(int, mass_str.split(' ')))\n",
    "    return protein, mass\n",
    "\n",
    "def cyclospectrum(peptide):\n",
    "    masses = [0]\n",
    "    for i in range(len(peptide)):\n",
    "        for j in range(len(peptide)):\n",
    "            if j + i < len(peptide):\n",
    "                masses.append(sum([mass_peptide[pr] for pr in peptide[j:j+i]]))\n",
    "            else:\n",
    "                masses.append(sum([mass_peptide[pr] for pr in peptide[j:]+peptide[:i - (len(peptide)-j)] ]))\n",
    "    return masses + [sum([mass_peptide[pr] for pr in peptide])]\n",
    "\n",
    "def spectrum_score(peptide_spectrum, cur_spectrum):\n",
    "    score_coefs = {}\n",
    "    for mass in peptide_spectrum:\n",
    "        if mass in score_coefs.keys():\n",
    "            score_coefs[mass] += 1\n",
    "        else:\n",
    "            score_coefs[mass] = 1\n",
    "    score = 0\n",
    "    for mass in cur_spectrum:\n",
    "        if mass in score_coefs.keys():\n",
    "            if score_coefs[mass] > 0:\n",
    "                score += 1\n",
    "                score_coefs[mass] -= 1\n",
    "    return score\n",
    "\n",
    "protein, cur_spectrum = read_file(path)\n",
    "\n",
    "peptide_spectrum = cyclospectrum(protain)\n",
    "print (spectrum_score(peptide_spectrum, cur_spectrum))"
   ]
  },
  {
   "cell_type": "code",
   "execution_count": 6,
   "metadata": {
    "collapsed": false
   },
   "outputs": [
    {
     "data": {
      "text/plain": [
       "1611752707373669"
      ]
     },
     "execution_count": 6,
     "metadata": {},
     "output_type": "execute_result"
    }
   ],
   "source": [
    "mass_all = 1446\n",
    "amino_acid_masses = sorted(list(set(mass_peptide.values())))\n",
    "\n",
    "def peptides(n, cur_mas_dict):\n",
    "    for m in amino_acid_masses:\n",
    "        if n - m in cur_mas_dict:\n",
    "            cur_mas_dict[n] = cur_mas_dict.get(n,0)+cur_mas_dict[n-m]\n",
    "    return cur_mas_dict\n",
    "\n",
    "\n",
    "def count_peptides(mass):\n",
    "    res_dict = {0:1}\n",
    "    mn = min(amino_acid_masses)\n",
    "    for i in range(mass - mn + 1):\n",
    "        j = i + mn\n",
    "        peptides(j, res_dict)\n",
    "    return res_dict\n",
    "\n",
    "count_peptides(mass_all)[mass_all]"
   ]
  },
  {
   "cell_type": "code",
   "execution_count": null,
   "metadata": {
    "collapsed": false
   },
   "outputs": [],
   "source": [
    "path = 'C:\\\\Users\\\\groza\\\\Downloads\\\\rosalind_ba4c (3).txt'\n",
    "# path = 'input.txt'\n",
    "\n",
    "def read_file(filename):\n",
    "    peptide = [line.rstrip() for line in open(filename)][0]\n",
    "    return peptide\n",
    "\n",
    "def get_mass(peptide):\n",
    "    mass_i = [mass_peptide[i] for i in peptide]\n",
    "    return sum(mass_i)\n",
    "\n",
    "def write_answer(answ):    \n",
    "    fld = open(\"output.txt\", \"w\")\n",
    "    for i in answ:\n",
    "        fld.write(str(i))\n",
    "        fld.write(' ')\n",
    "    fld.close()\n",
    "\n",
    "def solve_3(peptide):\n",
    "    mass = [0]\n",
    "    peptide_new = peptide + peptide\n",
    "    for k in range(len(peptide) - 1):\n",
    "        for i in range(len(peptide)):\n",
    "            mass.append(get_mass(peptide_new[i:i+k+1]))\n",
    "    mass.append(get_mass(peptide))\n",
    "    return mass\n",
    "\n",
    "peptide = read_file(path)\n",
    "mass = solve_3(peptide)\n",
    "write_answer(sorted(mass))"
   ]
  },
  {
   "cell_type": "code",
   "execution_count": null,
   "metadata": {
    "collapsed": false,
    "scrolled": true
   },
   "outputs": [],
   "source": [
    "path = 'C:\\\\Users\\\\groza\\\\Downloads\\\\rosalind_ba4b (1).txt'\n",
    "# path = 'input.txt'\n",
    "\n",
    "def read_file(filename):\n",
    "    dna, peptide = [line.rstrip() for line in open(filename)]\n",
    "    return dna, peptide\n",
    "\n",
    "def DNA2peptide(text):\n",
    "    amino = []\n",
    "    for i in range(0, len(text), 3):\n",
    "        amino.append(DNA2PEPTIDE[text[i:i+3]])\n",
    "    return ''.join(amino)\n",
    "\n",
    "def invers(text):\n",
    "    return ''.join([invers_dna[i] for i in text][::-1])\n",
    "\n",
    "def write_answer(answ):    \n",
    "    fld = open(\"output.txt\", \"w\")\n",
    "    for i in answ:\n",
    "        fld.write(i)\n",
    "        fld.write('\\n')\n",
    "    fld.close()\n",
    "\n",
    "def solve2(dna, peptide):\n",
    "    patterns = []\n",
    "    len_pattern = len(peptide)*3\n",
    "    for i in range(len(dna) - len_pattern + 1):\n",
    "        pattern = dna[i:i+len_pattern]\n",
    "        if DNA2peptide(pattern) == peptide:\n",
    "            patterns.append(pattern)\n",
    "        if DNA2peptide(invers(pattern)) == peptide:\n",
    "            patterns.append(pattern)\n",
    "    return patterns\n",
    "\n",
    "dna, peptide = read_file(path)\n",
    "patterns = solve2(dna, peptide)\n",
    "write_answer(patterns)\n",
    "        \n"
   ]
  },
  {
   "cell_type": "code",
   "execution_count": null,
   "metadata": {
    "collapsed": false
   },
   "outputs": [],
   "source": [
    "def read_file(filename):\n",
    "    lst = [line.rstrip('\\n') for line in open(filename)]\n",
    "    return lst[0]\n",
    "\n",
    "def write_answer(answ):    \n",
    "    fld = open(\"output.txt\", \"w\")\n",
    "    for i in answ:\n",
    "        fld.write(i)\n",
    "    fld.close()\n",
    "    \n",
    "def RNA2peptide(path):\n",
    "    amino = []\n",
    "    for i in range(0, len(text), 3):\n",
    "        if RNA2AMINO[text[i:i+3]] == 'Stop':\n",
    "            break\n",
    "        amino.append(RNA2PEPTIDE[text[i:i+3]])\n",
    "    return amino\n",
    "        \n",
    "text = read_file(path)\n",
    "amino = RNA2peptide(text)\n",
    "write_answer(amino)"
   ]
  }
 ],
 "metadata": {
  "kernelspec": {
   "display_name": "Python 3",
   "language": "python",
   "name": "python3"
  },
  "language_info": {
   "codemirror_mode": {
    "name": "ipython",
    "version": 3
   },
   "file_extension": ".py",
   "mimetype": "text/x-python",
   "name": "python",
   "nbconvert_exporter": "python",
   "pygments_lexer": "ipython3",
   "version": "3.4.3"
  }
 },
 "nbformat": 4,
 "nbformat_minor": 0
}
