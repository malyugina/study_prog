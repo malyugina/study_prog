{
 "cells": [
  {
   "cell_type": "code",
   "execution_count": 13,
   "metadata": {
    "collapsed": false
   },
   "outputs": [],
   "source": [
    "k = 4\n",
    "d = 2\n",
    "# text_ = 'AAGATTCTCTAC'\n",
    "patterns = ['ATG',\n",
    "            'ATG',\n",
    "            'TGT',\n",
    "            'TGG',\n",
    "            'CAT',\n",
    "            'GGA',\n",
    "            'GAT',\n",
    "            'AGA']"
   ]
  },
  {
   "cell_type": "code",
   "execution_count": null,
   "metadata": {
    "collapsed": true
   },
   "outputs": [],
   "source": [
    "def read_file(filename):\n",
    "    lst = [line.rstrip('\\n').split(\" -> \") for line in open(filename)]\n",
    "    dct = dict()\n",
    "    [dct.update({int(line[0]): [int(num) for num in line[1].split(',')]}) for line in lst]\n",
    "    return dct\n",
    "\n",
    "def write_answer(answ):    \n",
    "    fld = open(\"output.txt\", \"w\")\n",
    "    for walk in answ:\n",
    "        fld.write(\" -> \".join([str(node) for node in walk]))\n",
    "        fld.write(\"\\n\")\n",
    "    fld.close()\n",
    "\n",
    "graph = read_file(\"rosalind_ba3m.txt\")\n",
    "walks = non_branching_walks(graph)\n",
    "write_answer(walks)"
   ]
  },
  {
   "cell_type": "code",
   "execution_count": 11,
   "metadata": {
    "collapsed": false
   },
   "outputs": [],
   "source": [
    "def read_file(filename):\n",
    "    lines = [line.rstrip('\\n') for line in open(filename)]\n",
    "    k, d = [int(num) for num in lines[0].split(' ')]\n",
    "    return k, d, [tuple(line.split(\"|\")) for line in lines[1:]]\n",
    "\n",
    "def write_answer(answ):    \n",
    "    fld = open(\"output.txt\", \"w\")\n",
    "    fld.write(answ)\n",
    "    fld.close()\n",
    "    \n",
    "def read_etal(filename):\n",
    "    fld = open(filename)\n",
    "    return fld.read()\n",
    "\n",
    "def debruijn_graph_pairs(pairs):\n",
    "    prefix = lambda x: (x[0][:-1], x[1][:-1])\n",
    "    postfix = lambda x: (x[0][1:], x[1][1:])\n",
    "    \n",
    "    graph = {}\n",
    "    for pair in pairs:\n",
    "        if prefix(pair) not in list(graph.keys()):\n",
    "            graph.update({prefix(pair): [postfix(pair)]})\n",
    "        else:\n",
    "            graph[prefix(pair)].append(postfix(pair))            \n",
    "    return graph\n",
    "\n",
    "def pared_path_to_dna(path, d):\n",
    "    k = len(path[0][0])\n",
    "    t = len(path)\n",
    "    dna = ''.join([pair[0][0] for pair in path])\n",
    "    dna += ''.join([pair[1][0] for pair in path[(t - d - k - 1):]]) + path[-1][1][1:]\n",
    "    return dna\n",
    "\n",
    "def solve34(k, d, pairs):\n",
    "    graph = debruijn_graph_pairs(pairs)\n",
    "    path = find_euleran_path(graph)\n",
    "    answ = pared_path_to_dna(path, d)\n",
    "    write_answer(answ)"
   ]
  },
  {
   "cell_type": "code",
   "execution_count": 6,
   "metadata": {
    "collapsed": false
   },
   "outputs": [],
   "source": [
    "def read_file(filename):\n",
    "    return [line.rstrip('\\n') for line in open(filename)]\n",
    "\n",
    "def write_answer(answ):    \n",
    "    fld = open(\"output.txt\", \"w\")\n",
    "    fld.write(\" \".join([walk for walk in answ]))\n",
    "    fld.close()\n",
    "\n",
    "def find_nodes(graph):\n",
    "    deg = {}\n",
    "    [deg.update({node: [0, len(graph[node])]}) for node in graph.keys()]\n",
    "    for in_node in graph.keys():\n",
    "        for out_node in graph[in_node]:\n",
    "            if out_node in deg.keys():\n",
    "                deg[out_node][0] += 1\n",
    "    return [key for key in deg.keys() if deg[key] != [1, 1] ]\n",
    "\n",
    "def find_startnode(graph, join_nodes):\n",
    "    return [node for node in graph.keys() if node in join_nodes][0] \n",
    "\n",
    "def walk_until_branch(graph, join_nodes):\n",
    "    walking = [find_startnode(graph, join_nodes)]\n",
    "\n",
    "    while((walking[-1] in graph.keys() and walking[-1] not in join_nodes) or len(walking) == 1):\n",
    "        walking.append(graph[walking[-1]].pop())\n",
    "        if graph[walking[-2]] == []:\n",
    "            graph.pop(walking[-2])\n",
    "    return walking\n",
    "\n",
    "def non_branching_walks(graph):\n",
    "    join_nodes = find_nodes(graph)\n",
    "    walks = []\n",
    "    while(graph != {}):\n",
    "        walks.append(walk_until_branch(graph, join_nodes))\n",
    "    return walks\n",
    "\n",
    "def reconstruct_dna(path):\n",
    "    return ''.join([dna[0] for dna in path])+path[-1][1:]"
   ]
  },
  {
   "cell_type": "code",
   "execution_count": 1,
   "metadata": {
    "collapsed": false
   },
   "outputs": [],
   "source": [
    "def read_file(filename):\n",
    "    lines = [line.rstrip('\\n') for line in open(filename)]\n",
    "    k, d = [int(num) for num in lines[0].split(' ')]\n",
    "    return k, d, [tuple(line.split(\"|\")) for line in lines[1:]]\n",
    "\n",
    "def write_answer(answ):    \n",
    "    fld = open(\"output.txt\", \"w\")\n",
    "    fld.write(answ)\n",
    "    fld.close()\n",
    "\n",
    "def read_etal(filename):\n",
    "    fld = open(filename)\n",
    "    return fld.read()\n",
    "\n",
    "def pared_path_to_dna(path, d):\n",
    "    k = len(path[0][0])\n",
    "    t = len(path)\n",
    "    dna = ''.join([pair[0][0] for pair in path])\n",
    "    dna += ''.join([pair[1][0] for pair in path[(t - d - k - 1):]]) + path[-1][1][1:]\n",
    "    return dna\n",
    "\n",
    "def solve_32(k, d, patterns):\n",
    "    graph = debruijn_graph_pairs(pairs)\n",
    "    path = find_euleran_path(graph)\n",
    "    answ = pared_path_to_dna(path, d)\n",
    "    write_answer(answ)"
   ]
  },
  {
   "cell_type": "code",
   "execution_count": 5,
   "metadata": {
    "collapsed": true
   },
   "outputs": [],
   "source": [
    "def debruijn_graph_pairs(pairs):\n",
    "    prefix = lambda x: (x[0][:-1], x[1][:-1])\n",
    "    postfix = lambda x: (x[0][1:], x[1][1:])\n",
    "\n",
    "    graph = {}\n",
    "    for pair in pairs:\n",
    "        if prefix(pair) not in list(graph.keys()):\n",
    "            graph.update({prefix(pair): [postfix(pair)]})\n",
    "        else:\n",
    "            graph[prefix(pair)].append(postfix(pair))            \n",
    "    return graph"
   ]
  },
  {
   "cell_type": "code",
   "execution_count": 4,
   "metadata": {
    "collapsed": true
   },
   "outputs": [],
   "source": [
    "def find_start(graph):\n",
    "    deg = {}\n",
    "    [deg.update({node: len(graph[node])}) for node in graph.keys()]\n",
    "    for in_node in graph.keys():\n",
    "        for out_node in graph[in_node]:\n",
    "            if out_node in deg.keys():\n",
    "                deg[out_node] -= 1\n",
    "            else:\n",
    "                deg.update({out_node: -1})\n",
    "    return max(deg, key=deg.get)\n"
   ]
  },
  {
   "cell_type": "code",
   "execution_count": 3,
   "metadata": {
    "collapsed": true
   },
   "outputs": [],
   "source": [
    "def walk_on_graph(graph, startnode):\n",
    "    walking = [startnode]\n",
    "    while((walking[-1] in graph.keys() and walking[-1] != walking[0]) or len(walking) == 1):\n",
    "        walking.append(graph[walking[-1]].pop())\n",
    "        if graph[walking[-2]] == []:\n",
    "            graph.pop(walking[-2])\n",
    "\n",
    "    return walking\n"
   ]
  },
  {
   "cell_type": "code",
   "execution_count": 2,
   "metadata": {
    "collapsed": true
   },
   "outputs": [],
   "source": [
    "def find_euleran_path(graph):\n",
    "    path = walk_on_graph(graph, find_start(graph))\n",
    "    while(graph != {}):\n",
    "        startnode = [node for node in path if node in graph.keys()][0]\n",
    "        cycle = walk_on_graph(graph, startnode)[:-1]\n",
    "        join_node = [cycle_node for cycle_node in cycle if cycle_node in path]\n",
    "\n",
    "        if(join_node != []):\n",
    "            old_index = path.index(join_node[0])\n",
    "            new_index = cycle.index(join_node[0])\n",
    "            path = path[:old_index] + cycle[new_index::] + cycle[:new_index:] + path[old_index:]\n",
    "    return path"
   ]
  },
  {
   "cell_type": "code",
   "execution_count": 5,
   "metadata": {
    "collapsed": false
   },
   "outputs": [],
   "source": [
    "def reconstruir_strig_from_number(k):\n",
    "    patterns = []\n",
    "    for i in range(2**k):\n",
    "        number = str(bin(i)[2:]) \n",
    "        patterns.append('0'*(k - len(number))+number)\n",
    "\n",
    "    graf = de_brujin_from_patterns(patterns)\n",
    "\n",
    "    vertex_in = {}\n",
    "    vertex_out = {}\n",
    "    for i in graf:\n",
    "        vertex_out[i] = 0\n",
    "        vertex_in[i] = 0\n",
    "        for j in graf[i].split(','):\n",
    "            if len(j) < k-1:\n",
    "                vertex_in[graf[i]] = 0\n",
    "                vertex_out[graf[i]] = 0 \n",
    "                continue\n",
    "            vertex_in[j] = 0\n",
    "            vertex_out[j] = 0 \n",
    "\n",
    "    for i in graf:\n",
    "        vertex_out[i] = len(graf[i].split(','))\n",
    "        for j in graf[i].split(','):\n",
    "            vertex_in[j] = vertex_in[j] + 1\n",
    "\n",
    "    begin = next(iter(sorted(graf.keys())))\n",
    "    for i in vertex_in:\n",
    "        if vertex_out[i] - vertex_in[i] == 1:\n",
    "            begin = i\n",
    "\n",
    "    s = []\n",
    "    s.append(begin)\n",
    "    while (len(graf) != 0):\n",
    "        for j, vertex in enumerate(s):\n",
    "            if vertex in graf.keys():\n",
    "                i = j\n",
    "                while s[i] in graf.keys():\n",
    "                    next_vertex = graf[s[i]].split(',')[0]\n",
    "                    if len(graf[s[i]].split(',')) > 1:\n",
    "                        graf[s[i]] = graf[s[i]].split(',')[-1]\n",
    "                    else:\n",
    "                        del graf[s[i]]\n",
    "\n",
    "                    i = i + 1\n",
    "                    s.insert(i, next_vertex)\n",
    "\n",
    "    text_ = str(s[0])\n",
    "    for i in s[1:]:\n",
    "        text_ = text_ + str(i[-1])\n",
    "\n",
    "    return text_"
   ]
  },
  {
   "cell_type": "code",
   "execution_count": null,
   "metadata": {
    "collapsed": false
   },
   "outputs": [],
   "source": [
    "def reconstruit_string(patterns):\n",
    "    graf = de_brujin_from_patterns(patterns)\n",
    "\n",
    "    vertex_in = {}\n",
    "    vertex_out = {}\n",
    "    for i in graf:\n",
    "        vertex_out[i] = 0\n",
    "        vertex_in[i] = 0\n",
    "        for j in graf[i]:\n",
    "            if len(j) == 1:\n",
    "                vertex_in[graf[i]] = 0\n",
    "                vertex_out[graf[i]] = 0 \n",
    "                continue\n",
    "            vertex_in[j] = 0\n",
    "            vertex_out[j] = 0 \n",
    "    for i in graf:\n",
    "        if len(graf[i][0]) > 1:\n",
    "            vertex_out[i] = len(graf[i])\n",
    "            for j in graf[i]:\n",
    "                vertex_in[j] = vertex_in[j] + 1\n",
    "        else:\n",
    "            vertex_out[i] = vertex_out[i] + 1\n",
    "            vertex_in[graf[i]] = vertex_in[graf[i]] + 1\n",
    "\n",
    "    for i in vertex_in:\n",
    "        if vertex_out[i] - vertex_in[i] == 1:\n",
    "            begin = i\n",
    "\n",
    "    s = []\n",
    "    s.append(begin)\n",
    "    while (len(graf) != 0):\n",
    "        for j, vertex in enumerate(s):\n",
    "            if vertex in graf.keys():\n",
    "                i = j\n",
    "                while s[i] in graf.keys():\n",
    "                    if type(graf[s[i]]) != str:\n",
    "                        next_vertex = graf[s[i]][0]\n",
    "                    else:\n",
    "                        next_vertex = graf[s[i]]\n",
    "                    if type(graf[s[i]]) == str:\n",
    "                        del graf[s[i]]\n",
    "                    else:\n",
    "                        graf[s[i]] = graf[s[i]][1:]\n",
    "                    i = i + 1\n",
    "                    s.insert(i, next_vertex)\n",
    "    \n",
    "    text_ = str(s[0])\n",
    "    for i in s[1:]:\n",
    "        text_ = text_ + str(i[-1])\n",
    "    \n",
    "    return text_"
   ]
  },
  {
   "cell_type": "code",
   "execution_count": null,
   "metadata": {
    "collapsed": false
   },
   "outputs": [],
   "source": [
    "def construit_eiler_path(graf):\n",
    "    vertex_in = {}\n",
    "    vertex_out = {}\n",
    "    for i in graf:\n",
    "        vertex_out[i] = 0\n",
    "        vertex_in[i] = 0\n",
    "        for j in graf[i]:\n",
    "            vertex_in[j] = 0\n",
    "            vertex_out[j] = 0 \n",
    "    for i in graf:\n",
    "        vertex_out[i] = len(graf[i])\n",
    "        for j in graf[i]:\n",
    "            vertex_in[j] = vertex_in[j] + 1\n",
    "\n",
    "    \n",
    "    for i in vertex_in:\n",
    "        if vertex_out[i] - vertex_in[i] == 1:\n",
    "            begin = i\n",
    "    s = construin_eiler_circle(graf, begin)\n",
    "    return s"
   ]
  },
  {
   "cell_type": "code",
   "execution_count": null,
   "metadata": {
    "collapsed": true
   },
   "outputs": [],
   "source": [
    "def construin_eiler_circle(graf, begin):\n",
    "    s = []\n",
    "    s.append(begin)\n",
    "    while (len(graf) != 0):\n",
    "\n",
    "        for j, vertex in enumerate(s):\n",
    "            if vertex in graf.keys():\n",
    "                i = j\n",
    "                while s[i] in graf.keys():\n",
    "                    next_vertex = graf[s[i]][0]\n",
    "                    if len(graf[s[i]]) > 1:\n",
    "                        graf[s[i]] = graf[s[i]][1:]\n",
    "                    else:\n",
    "                        del graf[s[i]]\n",
    "                    i = i + 1\n",
    "                    s.insert(i, next_vertex)\n",
    "    return s"
   ]
  },
  {
   "cell_type": "code",
   "execution_count": null,
   "metadata": {
    "collapsed": false
   },
   "outputs": [],
   "source": [
    "graf = {}\n",
    "for line in patterns:\n",
    "    vertex_i = []\n",
    "    for k in line.split(' -> ')[1].split(','):\n",
    "        vertex_i.append(int(k))\n",
    "    graf[int(line.split(' -> ')[0])] = vertex_i\n"
   ]
  },
  {
   "cell_type": "code",
   "execution_count": 4,
   "metadata": {
    "collapsed": false
   },
   "outputs": [],
   "source": [
    "def de_brujin_from_patterns(patterns):\n",
    "    graf = {}\n",
    "    for i in patterns:\n",
    "        if i[:-1] in graf:\n",
    "            graf[i[:-1]] = graf[i[:-1]] +',' +  i[1:]\n",
    "        else:\n",
    "            graf[i[:-1]] = i[1:]\n",
    "    return graf"
   ]
  },
  {
   "cell_type": "code",
   "execution_count": 56,
   "metadata": {
    "collapsed": false
   },
   "outputs": [],
   "source": [
    "def adjacency_list(pattern):\n",
    "    graf = []\n",
    "    for i in sorted(patterns):\n",
    "        graf_i = []\n",
    "        for j in sorted(patterns):\n",
    "            if i[1:] == j[:-1]:\n",
    "                graf_i.append((i,j))\n",
    "        if len(graf_i) > 0:\n",
    "            graf.append(graf_i)\n",
    "    return graf"
   ]
  },
  {
   "cell_type": "code",
   "execution_count": null,
   "metadata": {
    "collapsed": false
   },
   "outputs": [],
   "source": [
    "def solve2(patterns):\n",
    "    text_ = patterns[0][:-1]\n",
    "    for i in patterns[1:]:\n",
    "        text_ = text_ + i[-2]\n",
    "    return text_"
   ]
  },
  {
   "cell_type": "code",
   "execution_count": null,
   "metadata": {
    "collapsed": true
   },
   "outputs": [],
   "source": [
    "def get_k_mer(text_, k):\n",
    "    patterns = set()\n",
    "    for i in range(len(text_) - k + 1):\n",
    "        patterns.add(text_[i:i+k])\n",
    "    return patterns"
   ]
  }
 ],
 "metadata": {
  "kernelspec": {
   "display_name": "Python 3",
   "language": "python",
   "name": "python3"
  },
  "language_info": {
   "codemirror_mode": {
    "name": "ipython",
    "version": 3
   },
   "file_extension": ".py",
   "mimetype": "text/x-python",
   "name": "python",
   "nbconvert_exporter": "python",
   "pygments_lexer": "ipython3",
   "version": "3.4.3"
  }
 },
 "nbformat": 4,
 "nbformat_minor": 0
}
